{
 "cells": [
  {
   "cell_type": "markdown",
   "metadata": {},
   "source": [
    "# JSON encoder and decoder"
   ]
  },
  {
   "cell_type": "markdown",
   "metadata": {},
   "source": [
    "JSON - текстовий формат для обміну даних, що базується на записі об'єктів в JavaScript. "
   ]
  },
  {
   "cell_type": "code",
   "execution_count": 18,
   "metadata": {},
   "outputs": [],
   "source": [
    "import json"
   ]
  },
  {
   "cell_type": "markdown",
   "metadata": {},
   "source": [
    "Стандартна бібліотека Python надає доступ до бібліотеки json, яка забезпечує завантаження даних з файлу в форматі .json (або тексту фоматованого під json формат) у стандартні типи Python (зокрема dict та list), а також запис даних зі стандартних типів у файл у форматі json чи у тесті форматовий під json формат."
   ]
  },
  {
   "cell_type": "markdown",
   "metadata": {},
   "source": [
    "Функція dumps дозволяє перетворювати дані, збережені у стандартних типах, у текст форматований під json."
   ]
  },
  {
   "cell_type": "code",
   "execution_count": 3,
   "metadata": {},
   "outputs": [
    {
     "data": {
      "text/plain": [
       "'{\"hello\": \"world\"}'"
      ]
     },
     "execution_count": 3,
     "metadata": {},
     "output_type": "execute_result"
    }
   ],
   "source": [
    "json.dumps({'hello': 'world'})"
   ]
  },
  {
   "cell_type": "markdown",
   "metadata": {},
   "source": [
    "Додаткові параметри дозволяють зробити текст більш читабельним"
   ]
  },
  {
   "cell_type": "code",
   "execution_count": 5,
   "metadata": {},
   "outputs": [
    {
     "name": "stdout",
     "output_type": "stream",
     "text": [
      "[\n",
      "    1,\n",
      "    2,\n",
      "    3,\n",
      "    {\n",
      "        \"4\": 5,\n",
      "        \"6\": 7\n",
      "    }\n",
      "]\n"
     ]
    }
   ],
   "source": [
    "print(json.dumps([1,2,3,{'4': 5, '6': 7}], indent=4))"
   ]
  },
  {
   "cell_type": "markdown",
   "metadata": {},
   "source": [
    "Функція dump працює аналогічно, лише записуючи дані у файл, об'єкт якого передано як параметр."
   ]
  },
  {
   "cell_type": "code",
   "execution_count": 6,
   "metadata": {},
   "outputs": [],
   "source": [
    "with open('test.json', 'w') as jsonfile:\n",
    "    json.dump([1,2,3,{'4': 5, '6': 7}], jsonfile, indent=4)"
   ]
  },
  {
   "cell_type": "code",
   "execution_count": 7,
   "metadata": {},
   "outputs": [
    {
     "name": "stdout",
     "output_type": "stream",
     "text": [
      "[\n",
      "    1,\n",
      "    2,\n",
      "    3,\n",
      "    {\n",
      "        \"4\": 5,\n",
      "        \"6\": 7\n",
      "    }\n",
      "]\n"
     ]
    }
   ],
   "source": [
    "with open('test.json', 'r') as jsonfile:\n",
    "    print(jsonfile.read())"
   ]
  },
  {
   "cell_type": "markdown",
   "metadata": {},
   "source": [
    "Протилежно до функцій dump та dumps працюють функції load та loads, що забезпечують завантаження у стандартні типи даних з json-файлу, або форматованого тексту."
   ]
  },
  {
   "cell_type": "code",
   "execution_count": 10,
   "metadata": {},
   "outputs": [],
   "source": [
    "with open('test.json', 'r') as jsonfile:\n",
    "    json_list = json.load(jsonfile)"
   ]
  },
  {
   "cell_type": "code",
   "execution_count": 11,
   "metadata": {},
   "outputs": [
    {
     "data": {
      "text/plain": [
       "[1, 2, 3, {'4': 5, '6': 7}]"
      ]
     },
     "execution_count": 11,
     "metadata": {},
     "output_type": "execute_result"
    }
   ],
   "source": [
    "json_list"
   ]
  },
  {
   "cell_type": "code",
   "execution_count": 12,
   "metadata": {},
   "outputs": [
    {
     "data": {
      "text/plain": [
       "list"
      ]
     },
     "execution_count": 12,
     "metadata": {},
     "output_type": "execute_result"
    }
   ],
   "source": [
    "type(json_list)"
   ]
  },
  {
   "cell_type": "code",
   "execution_count": 15,
   "metadata": {},
   "outputs": [],
   "source": [
    "text = '[1, 2, 3, {\"4\": 5, \"6\": 7}]'\n",
    "json_list_from_text = json.loads(text)"
   ]
  },
  {
   "cell_type": "code",
   "execution_count": 16,
   "metadata": {},
   "outputs": [
    {
     "data": {
      "text/plain": [
       "[1, 2, 3, {'4': 5, '6': 7}]"
      ]
     },
     "execution_count": 16,
     "metadata": {},
     "output_type": "execute_result"
    }
   ],
   "source": [
    "json_list_from_text"
   ]
  },
  {
   "cell_type": "code",
   "execution_count": 17,
   "metadata": {},
   "outputs": [
    {
     "data": {
      "text/plain": [
       "list"
      ]
     },
     "execution_count": 17,
     "metadata": {},
     "output_type": "execute_result"
    }
   ],
   "source": [
    "type(json_list_from_text)"
   ]
  },
  {
   "cell_type": "markdown",
   "metadata": {},
   "source": [
    "# XML"
   ]
  },
  {
   "cell_type": "markdown",
   "metadata": {},
   "source": [
    "XML- формат використовується для обміну ієрархічно структурованими даними між різними застосунками, зокрема через інтернет.\n",
    "XML-документ має ієрархічну логічну структуру, і може представлятись у вигляді дерева."
   ]
  },
  {
   "cell_type": "code",
   "execution_count": 1,
   "metadata": {},
   "outputs": [],
   "source": [
    "import xml.etree.ElementTree as ET"
   ]
  },
  {
   "cell_type": "markdown",
   "metadata": {},
   "source": [
    "Для обробки даних у форматі XML можна використати модуль xml.etree.ElementTree стандартної бібліотеки Python. Даний модуль дозволяє отримувати необхідні дані заходячи вглиб деревоподібної структури XML-файла. За допомогою функцій parse та fromstring можна здійснювати завантаження даних з xml-файлу або форматованого тексту відповідно. Отримані дані будуть одного з двох типів: або ElementTree, або Element"
   ]
  },
  {
   "cell_type": "code",
   "execution_count": 2,
   "metadata": {},
   "outputs": [],
   "source": [
    "data = '''<note important='yes'>\n",
    "<to>Oles</to>\n",
    "<from>LvivEvents</from>\n",
    "<heading>Reminder</heading>\n",
    "<body>Check our code!</body>\n",
    "</note>'''\n",
    "\n",
    "root = ET.fromstring(data)"
   ]
  },
  {
   "cell_type": "code",
   "execution_count": 3,
   "metadata": {},
   "outputs": [
    {
     "data": {
      "text/plain": [
       "xml.etree.ElementTree.Element"
      ]
     },
     "execution_count": 3,
     "metadata": {},
     "output_type": "execute_result"
    }
   ],
   "source": [
    "type(root)"
   ]
  },
  {
   "cell_type": "markdown",
   "metadata": {},
   "source": [
    "Завдяки атрибутам tag та attrib можна отримати назву зовнішньго тегу та словник з атрибутів відповідно"
   ]
  },
  {
   "cell_type": "code",
   "execution_count": 4,
   "metadata": {},
   "outputs": [
    {
     "name": "stdout",
     "output_type": "stream",
     "text": [
      "note\n",
      "{'important': 'yes'}\n"
     ]
    }
   ],
   "source": [
    "print(root.tag)\n",
    "print(root.attrib)"
   ]
  },
  {
   "cell_type": "code",
   "execution_count": 5,
   "metadata": {},
   "outputs": [],
   "source": [
    "data = '''<?xml version=\"1.0\"?>\n",
    "<data>\n",
    "    <country name=\"Liechtenstein\">\n",
    "        <rank>1</rank>\n",
    "        <year>2008</year>\n",
    "        <gdppc>141100</gdppc>\n",
    "        <neighbor name=\"Austria\" direction=\"E\"/>\n",
    "        <neighbor name=\"Switzerland\" direction=\"W\"/>\n",
    "    </country>\n",
    "    <country name=\"Singapore\">\n",
    "        <rank>4</rank>\n",
    "        <year>2011</year>\n",
    "        <gdppc>59900</gdppc>\n",
    "        <neighbor name=\"Malaysia\" direction=\"N\"/>\n",
    "    </country>\n",
    "    <country name=\"Panama\">\n",
    "        <rank>68</rank>\n",
    "        <year>2011</year>\n",
    "        <gdppc>13600</gdppc>\n",
    "        <neighbor name=\"Costa Rica\" direction=\"W\"/>\n",
    "        <neighbor name=\"Colombia\" direction=\"E\"/>\n",
    "    </country>\n",
    "</data>'''\n",
    "\n",
    "root = ET.fromstring(data)"
   ]
  },
  {
   "cell_type": "markdown",
   "metadata": {},
   "source": [
    "Завдяки циклу for можна ітерувати по внутрішніх тегах(нащадках). Для кожного тегу можна доступитися по імені до його нащадка або його атрибутів. Також можна завдяки методу findall можна здіснити пошук всіх тегів по заданому шляху відносно елементу, до якого викликається метод."
   ]
  },
  {
   "cell_type": "code",
   "execution_count": 6,
   "metadata": {},
   "outputs": [
    {
     "name": "stdout",
     "output_type": "stream",
     "text": [
      "Name: Liechtenstein Rank: 1 Neighbors: Austria|||Switzerland|||\n",
      "Name: Singapore Rank: 4 Neighbors: Malaysia|||\n",
      "Name: Panama Rank: 68 Neighbors: Costa Rica|||Colombia|||\n"
     ]
    }
   ],
   "source": [
    "for country in root:\n",
    "    print('Name:', country.get('name'), \n",
    "          'Rank:', country.find('rank').text, 'Neighbors: ', end='')\n",
    "    for neighbor in country.findall('neighbor'):\n",
    "        print(neighbor.get('name'), end='|||')\n",
    "    print()"
   ]
  },
  {
   "cell_type": "markdown",
   "metadata": {},
   "source": [
    "# HTML"
   ]
  },
  {
   "cell_type": "markdown",
   "metadata": {},
   "source": [
    "HTML - мова для розмітки веб-сторінок"
   ]
  },
  {
   "cell_type": "markdown",
   "metadata": {},
   "source": [
    "Для цього пункту ми будемо використовувати бібліотеки requests - для отримання коду веб-сторінок і BeautifulSoup для його редагування.\n",
    "Ці бібліотеки не є стандартними і потребують додаткового встановлення."
   ]
  },
  {
   "cell_type": "code",
   "execution_count": 2,
   "metadata": {},
   "outputs": [],
   "source": [
    "from bs4 import BeautifulSoup"
   ]
  },
  {
   "cell_type": "code",
   "execution_count": 3,
   "metadata": {},
   "outputs": [],
   "source": [
    "from requests_html import HTMLSession"
   ]
  },
  {
   "cell_type": "markdown",
   "metadata": {},
   "source": [
    "Тепер отримаємо код сторінки."
   ]
  },
  {
   "cell_type": "code",
   "execution_count": 4,
   "metadata": {},
   "outputs": [],
   "source": [
    "session = HTMLSession()\n",
    "page = session.get(\"http://html.python-requests.org/\")"
   ]
  },
  {
   "cell_type": "code",
   "execution_count": 5,
   "metadata": {
    "scrolled": true
   },
   "outputs": [
    {
     "data": {
      "text/plain": [
       "'\\n<!DOCTYPE html PUBLIC \"-//W3C//DTD XHTML 1.0 Transitional//EN\"\\n  \"http://www.w3.org/TR/xhtml1/DTD/xhtml1-transitional.dtd\">\\n\\n<html xmlns=\"http://www.w3.org/1999/xhtml\">\\n  <head>\\n    <meta http-equiv=\"X-UA-Compatible\" content=\"IE=Edge\" />\\n    <meta http-equiv=\"Content-Type\" content=\"text/html; charset=utf-8\" />\\n    <title>Requests-HTML: HTML Parsing for Humans (writing Python 3)! &#8212; requests-HTML v0.3.4 documentation</title>\\n    <link rel=\"stylesheet\" href=\"_static/alabaster.css\" type=\"text/css\" />\\n    <link rel=\"stylesheet\" href=\"_static/pygments.css\" type=\"text/css\" />\\n    <script type=\"text/javascript\" src=\"_static/documentation_options.js\"></script>\\n    <script type=\"text/javascript\" src=\"_static/jquery.js\"></script>\\n    <script type=\"text/javascript\" src=\"_static/underscore.js\"></script>\\n    <script type=\"text/javascript\" src=\"_static/doctools.js\"></script>\\n    <link rel=\"index\" title=\"Index\" href=\"genindex.html\" />\\n    <link rel=\"search\" title=\"Search\" href=\"search.html\" />\\n   \\n  <link rel=\"stylesheet\" href=\"_static/custom.css\" type=\"text/css\" />\\n  \\n  \\n  <meta name=\"viewport\" content=\"width=device-width, initial-scale=0.9, maximum-scale=0.9\" />\\n\\n  </head><body>\\n  \\n\\n    <div class=\"document\">\\n      <div class=\"documentwrapper\">\\n        <div class=\"bodywrapper\">\\n          <div class=\"body\" role=\"main\">\\n            \\n  <div class=\"section\" id=\"requests-html-html-parsing-for-humans-writing-python-3\">\\n<h1>Requests-HTML: HTML Parsing for Humans (writing Python 3)!<a class=\"headerlink\" href=\"#requests-html-html-parsing-for-humans-writing-python-3\" title=\"Permalink to this headline\">¶</a></h1>\\n<div class=\"toctree-wrapper compound\">\\n</div>\\n<a class=\"reference external image-reference\" href=\"https://travis-ci.org/kennethreitz/requests-html\"><img alt=\"https://travis-ci.org/kennethreitz/requests-html.svg?branch=master\" src=\"https://travis-ci.org/kennethreitz/requests-html.svg?branch=master\" /></a>\\n<p>This library intends to make parsing HTML (e.g. scraping the web) as\\nsimple and intuitive as possible.</p>\\n<p>When using this library you automatically get:</p>\\n<ul class=\"simple\">\\n<li><strong>Full JavaScript support</strong>!</li>\\n<li><em>CSS Selectors</em> (a.k.a jQuery-style, thanks to PyQuery).</li>\\n<li><em>XPath Selectors</em>, for the faint at heart.</li>\\n<li>Mocked user-agent (like a real web browser).</li>\\n<li>Automatic following of redirects.</li>\\n<li>Connection–pooling and cookie persistence.</li>\\n<li>The Requests experience you know and love, with magical parsing abilities.</li>\\n</ul>\\n</div>\\n<div class=\"section\" id=\"installation\">\\n<h1>Installation<a class=\"headerlink\" href=\"#installation\" title=\"Permalink to this headline\">¶</a></h1>\\n<div class=\"highlight-shell notranslate\"><div class=\"highlight\"><pre><span></span>$ pipenv install requests-html\\n✨🍰✨\\n</pre></div>\\n</div>\\n<p>Only <strong>Python 3.6</strong> is supported.</p>\\n</div>\\n<div class=\"section\" id=\"tutorial-usage\">\\n<h1>Tutorial &amp; Usage<a class=\"headerlink\" href=\"#tutorial-usage\" title=\"Permalink to this headline\">¶</a></h1>\\n<p>Make a GET request to <a class=\"reference external\" href=\"https://python.org/\">python.org</a>, using <a class=\"reference external\" href=\"https://docs.python-requests.org/\">Requests</a>:</p>\\n<div class=\"highlight-pycon notranslate\"><div class=\"highlight\"><pre><span></span><span class=\"gp\">&gt;&gt;&gt; </span><span class=\"kn\">from</span> <span class=\"nn\">requests_html</span> <span class=\"kn\">import</span> <span class=\"n\">HTMLSession</span>\\n<span class=\"gp\">&gt;&gt;&gt; </span><span class=\"n\">session</span> <span class=\"o\">=</span> <span class=\"n\">HTMLSession</span><span class=\"p\">()</span>\\n\\n<span class=\"gp\">&gt;&gt;&gt; </span><span class=\"n\">r</span> <span class=\"o\">=</span> <span class=\"n\">session</span><span class=\"o\">.</span><span class=\"n\">get</span><span class=\"p\">(</span><span class=\"s1\">&#39;https://python.org/&#39;</span><span class=\"p\">)</span>\\n</pre></div>\\n</div>\\n<p>Grab a list of all links on the page, as–is (anchors excluded):</p>\\n<div class=\"highlight-pycon notranslate\"><div class=\"highlight\"><pre><span></span><span class=\"gp\">&gt;&gt;&gt; </span><span class=\"n\">r</span><span class=\"o\">.</span><span class=\"n\">html</span><span class=\"o\">.</span><span class=\"n\">links</span>\\n<span class=\"go\">{&#39;//docs.python.org/3/tutorial/&#39;, &#39;/about/apps/&#39;, &#39;https://github.com/python/pythondotorg/issues&#39;, &#39;/accounts/login/&#39;, &#39;/dev/peps/&#39;, &#39;/about/legal/&#39;, &#39;//docs.python.org/3/tutorial/introduction.html#lists&#39;, &#39;/download/alternatives&#39;, &#39;http://feedproxy.google.com/~r/PythonInsider/~3/kihd2DW98YY/python-370a4-is-available-for-testing.html&#39;, &#39;/download/other/&#39;, &#39;/downloads/windows/&#39;, &#39;https://mail.python.org/mailman/listinfo/python-dev&#39;, &#39;/doc/av&#39;, &#39;https://devguide.python.org/&#39;, &#39;/about/success/#engineering&#39;, &#39;https://wiki.python.org/moin/PythonEventsCalendar#Submitting_an_Event&#39;, &#39;https://www.openstack.org&#39;, &#39;/about/gettingstarted/&#39;, &#39;http://feedproxy.google.com/~r/PythonInsider/~3/AMoBel8b8Mc/python-3.html&#39;, &#39;/success-stories/industrial-light-magic-runs-python/&#39;, &#39;http://docs.python.org/3/tutorial/introduction.html#using-python-as-a-calculator&#39;, &#39;/&#39;, &#39;http://pyfound.blogspot.com/&#39;, &#39;/events/python-events/past/&#39;, &#39;/downloads/release/python-2714/&#39;, &#39;https://wiki.python.org/moin/PythonBooks&#39;, &#39;http://plus.google.com/+Python&#39;, &#39;https://wiki.python.org/moin/&#39;, &#39;https://status.python.org/&#39;, &#39;/community/workshops/&#39;, &#39;/community/lists/&#39;, &#39;http://buildbot.net/&#39;, &#39;/community/awards&#39;, &#39;http://twitter.com/ThePSF&#39;, &#39;https://docs.python.org/3/license.html&#39;, &#39;/psf/donations/&#39;, &#39;http://wiki.python.org/moin/Languages&#39;, &#39;/dev/&#39;, &#39;/events/python-user-group/&#39;, &#39;https://wiki.qt.io/PySide&#39;, &#39;/community/sigs/&#39;, &#39;https://wiki.gnome.org/Projects/PyGObject&#39;, &#39;http://www.ansible.com&#39;, &#39;http://www.saltstack.com&#39;, &#39;http://planetpython.org/&#39;, &#39;/events/python-events&#39;, &#39;/about/help/&#39;, &#39;/events/python-user-group/past/&#39;, &#39;/about/success/&#39;, &#39;/psf-landing/&#39;, &#39;/about/apps&#39;, &#39;/about/&#39;, &#39;http://www.wxpython.org/&#39;, &#39;/events/python-user-group/665/&#39;, &#39;https://www.python.org/psf/codeofconduct/&#39;, &#39;/dev/peps/peps.rss&#39;, &#39;/downloads/source/&#39;, &#39;/psf/sponsorship/sponsors/&#39;, &#39;http://bottlepy.org&#39;, &#39;http://roundup.sourceforge.net/&#39;, &#39;http://pandas.pydata.org/&#39;, &#39;http://brochure.getpython.info/&#39;, &#39;https://bugs.python.org/&#39;, &#39;/community/merchandise/&#39;, &#39;http://tornadoweb.org&#39;, &#39;/events/python-user-group/650/&#39;, &#39;http://flask.pocoo.org/&#39;, &#39;/downloads/release/python-364/&#39;, &#39;/events/python-user-group/660/&#39;, &#39;/events/python-user-group/638/&#39;, &#39;/psf/&#39;, &#39;/doc/&#39;, &#39;http://blog.python.org&#39;, &#39;/events/python-events/604/&#39;, &#39;/about/success/#government&#39;, &#39;http://python.org/dev/peps/&#39;, &#39;https://docs.python.org&#39;, &#39;http://feedproxy.google.com/~r/PythonInsider/~3/zVC80sq9s00/python-364-is-now-available.html&#39;, &#39;/users/membership/&#39;, &#39;/about/success/#arts&#39;, &#39;https://wiki.python.org/moin/Python2orPython3&#39;, &#39;/downloads/&#39;, &#39;/jobs/&#39;, &#39;http://trac.edgewall.org/&#39;, &#39;http://feedproxy.google.com/~r/PythonInsider/~3/wh73_1A-N7Q/python-355rc1-and-python-348rc1-are-now.html&#39;, &#39;/privacy/&#39;, &#39;https://pypi.python.org/&#39;, &#39;http://www.riverbankcomputing.co.uk/software/pyqt/intro&#39;, &#39;http://www.scipy.org&#39;, &#39;/community/forums/&#39;, &#39;/about/success/#scientific&#39;, &#39;/about/success/#software-development&#39;, &#39;/shell/&#39;, &#39;/accounts/signup/&#39;, &#39;http://www.facebook.com/pythonlang?fref=ts&#39;, &#39;/community/&#39;, &#39;https://kivy.org/&#39;, &#39;/about/quotes/&#39;, &#39;http://www.web2py.com/&#39;, &#39;/community/logos/&#39;, &#39;/community/diversity/&#39;, &#39;/events/calendars/&#39;, &#39;https://wiki.python.org/moin/BeginnersGuide&#39;, &#39;/success-stories/&#39;, &#39;/doc/essays/&#39;, &#39;/dev/core-mentorship/&#39;, &#39;http://ipython.org&#39;, &#39;/events/&#39;, &#39;//docs.python.org/3/tutorial/controlflow.html&#39;, &#39;/about/success/#education&#39;, &#39;/blogs/&#39;, &#39;/community/irc/&#39;, &#39;http://pycon.blogspot.com/&#39;, &#39;//jobs.python.org&#39;, &#39;http://www.pylonsproject.org/&#39;, &#39;http://www.djangoproject.com/&#39;, &#39;/downloads/mac-osx/&#39;, &#39;/about/success/#business&#39;, &#39;http://feedproxy.google.com/~r/PythonInsider/~3/x_c9D0S-4C4/python-370b1-is-now-available-for.html&#39;, &#39;http://wiki.python.org/moin/TkInter&#39;, &#39;https://docs.python.org/faq/&#39;, &#39;//docs.python.org/3/tutorial/controlflow.html#defining-functions&#39;}</span>\\n</pre></div>\\n</div>\\n<p>Grab a list of all links on the page, in <a class=\"reference external\" href=\"https://www.navegabem.com/absolute-or-relative-links.html\">absolute form</a> (anchors excluded):</p>\\n<div class=\"highlight-pycon notranslate\"><div class=\"highlight\"><pre><span></span><span class=\"gp\">&gt;&gt;&gt; </span><span class=\"n\">r</span><span class=\"o\">.</span><span class=\"n\">html</span><span class=\"o\">.</span><span class=\"n\">absolute_links</span>\\n<span class=\"go\">{&#39;https://github.com/python/pythondotorg/issues&#39;, &#39;https://docs.python.org/3/tutorial/&#39;, &#39;https://www.python.org/about/success/&#39;, &#39;http://feedproxy.google.com/~r/PythonInsider/~3/kihd2DW98YY/python-370a4-is-available-for-testing.html&#39;, &#39;https://www.python.org/dev/peps/&#39;, &#39;https://mail.python.org/mailman/listinfo/python-dev&#39;, &#39;https://www.python.org/doc/&#39;, &#39;https://www.python.org/&#39;, &#39;https://www.python.org/about/&#39;, &#39;https://www.python.org/events/python-events/past/&#39;, &#39;https://devguide.python.org/&#39;, &#39;https://wiki.python.org/moin/PythonEventsCalendar#Submitting_an_Event&#39;, &#39;https://www.openstack.org&#39;, &#39;http://feedproxy.google.com/~r/PythonInsider/~3/AMoBel8b8Mc/python-3.html&#39;, &#39;https://docs.python.org/3/tutorial/introduction.html#lists&#39;, &#39;http://docs.python.org/3/tutorial/introduction.html#using-python-as-a-calculator&#39;, &#39;http://pyfound.blogspot.com/&#39;, &#39;https://wiki.python.org/moin/PythonBooks&#39;, &#39;http://plus.google.com/+Python&#39;, &#39;https://wiki.python.org/moin/&#39;, &#39;https://www.python.org/events/python-events&#39;, &#39;https://status.python.org/&#39;, &#39;https://www.python.org/about/apps&#39;, &#39;https://www.python.org/downloads/release/python-2714/&#39;, &#39;https://www.python.org/psf/donations/&#39;, &#39;http://buildbot.net/&#39;, &#39;http://twitter.com/ThePSF&#39;, &#39;https://docs.python.org/3/license.html&#39;, &#39;http://wiki.python.org/moin/Languages&#39;, &#39;https://docs.python.org/faq/&#39;, &#39;https://jobs.python.org&#39;, &#39;https://www.python.org/about/success/#software-development&#39;, &#39;https://www.python.org/about/success/#education&#39;, &#39;https://www.python.org/community/logos/&#39;, &#39;https://www.python.org/doc/av&#39;, &#39;https://wiki.qt.io/PySide&#39;, &#39;https://www.python.org/events/python-user-group/660/&#39;, &#39;https://wiki.gnome.org/Projects/PyGObject&#39;, &#39;http://www.ansible.com&#39;, &#39;http://www.saltstack.com&#39;, &#39;https://www.python.org/dev/peps/peps.rss&#39;, &#39;http://planetpython.org/&#39;, &#39;https://www.python.org/events/python-user-group/past/&#39;, &#39;https://docs.python.org/3/tutorial/controlflow.html#defining-functions&#39;, &#39;https://www.python.org/community/diversity/&#39;, &#39;https://docs.python.org/3/tutorial/controlflow.html&#39;, &#39;https://www.python.org/community/awards&#39;, &#39;https://www.python.org/events/python-user-group/638/&#39;, &#39;https://www.python.org/about/legal/&#39;, &#39;https://www.python.org/dev/&#39;, &#39;https://www.python.org/download/alternatives&#39;, &#39;https://www.python.org/downloads/&#39;, &#39;https://www.python.org/community/lists/&#39;, &#39;http://www.wxpython.org/&#39;, &#39;https://www.python.org/about/success/#government&#39;, &#39;https://www.python.org/psf/&#39;, &#39;https://www.python.org/psf/codeofconduct/&#39;, &#39;http://bottlepy.org&#39;, &#39;http://roundup.sourceforge.net/&#39;, &#39;http://pandas.pydata.org/&#39;, &#39;http://brochure.getpython.info/&#39;, &#39;https://www.python.org/downloads/source/&#39;, &#39;https://bugs.python.org/&#39;, &#39;https://www.python.org/downloads/mac-osx/&#39;, &#39;https://www.python.org/about/help/&#39;, &#39;http://tornadoweb.org&#39;, &#39;http://flask.pocoo.org/&#39;, &#39;https://www.python.org/users/membership/&#39;, &#39;http://blog.python.org&#39;, &#39;https://www.python.org/privacy/&#39;, &#39;https://www.python.org/about/gettingstarted/&#39;, &#39;http://python.org/dev/peps/&#39;, &#39;https://www.python.org/about/apps/&#39;, &#39;https://docs.python.org&#39;, &#39;https://www.python.org/success-stories/&#39;, &#39;https://www.python.org/community/forums/&#39;, &#39;http://feedproxy.google.com/~r/PythonInsider/~3/zVC80sq9s00/python-364-is-now-available.html&#39;, &#39;https://www.python.org/community/merchandise/&#39;, &#39;https://www.python.org/about/success/#arts&#39;, &#39;https://wiki.python.org/moin/Python2orPython3&#39;, &#39;http://trac.edgewall.org/&#39;, &#39;http://feedproxy.google.com/~r/PythonInsider/~3/wh73_1A-N7Q/python-355rc1-and-python-348rc1-are-now.html&#39;, &#39;https://pypi.python.org/&#39;, &#39;https://www.python.org/events/python-user-group/650/&#39;, &#39;http://www.riverbankcomputing.co.uk/software/pyqt/intro&#39;, &#39;https://www.python.org/about/quotes/&#39;, &#39;https://www.python.org/downloads/windows/&#39;, &#39;https://www.python.org/events/calendars/&#39;, &#39;http://www.scipy.org&#39;, &#39;https://www.python.org/community/workshops/&#39;, &#39;https://www.python.org/blogs/&#39;, &#39;https://www.python.org/accounts/signup/&#39;, &#39;https://www.python.org/events/&#39;, &#39;https://kivy.org/&#39;, &#39;http://www.facebook.com/pythonlang?fref=ts&#39;, &#39;http://www.web2py.com/&#39;, &#39;https://www.python.org/psf/sponsorship/sponsors/&#39;, &#39;https://www.python.org/community/&#39;, &#39;https://www.python.org/download/other/&#39;, &#39;https://www.python.org/psf-landing/&#39;, &#39;https://www.python.org/events/python-user-group/665/&#39;, &#39;https://wiki.python.org/moin/BeginnersGuide&#39;, &#39;https://www.python.org/accounts/login/&#39;, &#39;https://www.python.org/downloads/release/python-364/&#39;, &#39;https://www.python.org/dev/core-mentorship/&#39;, &#39;https://www.python.org/about/success/#business&#39;, &#39;https://www.python.org/community/sigs/&#39;, &#39;https://www.python.org/events/python-user-group/&#39;, &#39;http://ipython.org&#39;, &#39;https://www.python.org/shell/&#39;, &#39;https://www.python.org/community/irc/&#39;, &#39;https://www.python.org/about/success/#engineering&#39;, &#39;http://www.pylonsproject.org/&#39;, &#39;http://pycon.blogspot.com/&#39;, &#39;https://www.python.org/about/success/#scientific&#39;, &#39;https://www.python.org/doc/essays/&#39;, &#39;http://www.djangoproject.com/&#39;, &#39;https://www.python.org/success-stories/industrial-light-magic-runs-python/&#39;, &#39;http://feedproxy.google.com/~r/PythonInsider/~3/x_c9D0S-4C4/python-370b1-is-now-available-for.html&#39;, &#39;http://wiki.python.org/moin/TkInter&#39;, &#39;https://www.python.org/jobs/&#39;, &#39;https://www.python.org/events/python-events/604/&#39;}</span>\\n</pre></div>\\n</div>\\n<p>Select an <code class=\"xref py py-class docutils literal notranslate\"><span class=\"pre\">Element</span></code> with a CSS Selector (<a class=\"reference external\" href=\"https://www.w3schools.com/cssref/css_selectors.asp\">learn more</a>):</p>\\n<div class=\"highlight-pycon notranslate\"><div class=\"highlight\"><pre><span></span><span class=\"gp\">&gt;&gt;&gt; </span><span class=\"n\">about</span> <span class=\"o\">=</span> <span class=\"n\">r</span><span class=\"o\">.</span><span class=\"n\">html</span><span class=\"o\">.</span><span class=\"n\">find</span><span class=\"p\">(</span><span class=\"s1\">&#39;#about&#39;</span><span class=\"p\">,</span> <span class=\"n\">first</span><span class=\"o\">=</span><span class=\"bp\">True</span><span class=\"p\">)</span>\\n</pre></div>\\n</div>\\n<p>Grab an <code class=\"xref py py-class docutils literal notranslate\"><span class=\"pre\">Element</span></code>’s text contents:</p>\\n<div class=\"highlight-pycon notranslate\"><div class=\"highlight\"><pre><span></span><span class=\"gp\">&gt;&gt;&gt; </span><span class=\"k\">print</span><span class=\"p\">(</span><span class=\"n\">about</span><span class=\"o\">.</span><span class=\"n\">text</span><span class=\"p\">)</span>\\n<span class=\"go\">About</span>\\n<span class=\"go\">Applications</span>\\n<span class=\"go\">Quotes</span>\\n<span class=\"go\">Getting Started</span>\\n<span class=\"go\">Help</span>\\n<span class=\"go\">Python Brochure</span>\\n</pre></div>\\n</div>\\n<p>Introspect an <code class=\"xref py py-class docutils literal notranslate\"><span class=\"pre\">Element</span></code>’s attributes (<a class=\"reference external\" href=\"https://developer.mozilla.org/en-US/docs/Web/HTML/Attributes\">learn more</a>):</p>\\n<div class=\"highlight-pycon notranslate\"><div class=\"highlight\"><pre><span></span><span class=\"gp\">&gt;&gt;&gt; </span><span class=\"n\">about</span><span class=\"o\">.</span><span class=\"n\">attrs</span>\\n<span class=\"go\">{&#39;id&#39;: &#39;about&#39;, &#39;class&#39;: (&#39;tier-1&#39;, &#39;element-1&#39;), &#39;aria-haspopup&#39;: &#39;true&#39;}</span>\\n</pre></div>\\n</div>\\n<p>Render out an <code class=\"xref py py-class docutils literal notranslate\"><span class=\"pre\">Element</span></code>’s HTML:</p>\\n<div class=\"highlight-pycon notranslate\"><div class=\"highlight\"><pre><span></span><span class=\"gp\">&gt;&gt;&gt; </span><span class=\"n\">about</span><span class=\"o\">.</span><span class=\"n\">html</span>\\n<span class=\"go\">&#39;&lt;li aria-haspopup=&quot;true&quot; class=&quot;tier-1 element-1 &quot; id=&quot;about&quot;&gt;\\\\n&lt;a class=&quot;&quot; href=&quot;/about/&quot; title=&quot;&quot;&gt;About&lt;/a&gt;\\\\n&lt;ul aria-hidden=&quot;true&quot; class=&quot;subnav menu&quot; role=&quot;menu&quot;&gt;\\\\n&lt;li class=&quot;tier-2 element-1&quot; role=&quot;treeitem&quot;&gt;&lt;a href=&quot;/about/apps/&quot; title=&quot;&quot;&gt;Applications&lt;/a&gt;&lt;/li&gt;\\\\n&lt;li class=&quot;tier-2 element-2&quot; role=&quot;treeitem&quot;&gt;&lt;a href=&quot;/about/quotes/&quot; title=&quot;&quot;&gt;Quotes&lt;/a&gt;&lt;/li&gt;\\\\n&lt;li class=&quot;tier-2 element-3&quot; role=&quot;treeitem&quot;&gt;&lt;a href=&quot;/about/gettingstarted/&quot; title=&quot;&quot;&gt;Getting Started&lt;/a&gt;&lt;/li&gt;\\\\n&lt;li class=&quot;tier-2 element-4&quot; role=&quot;treeitem&quot;&gt;&lt;a href=&quot;/about/help/&quot; title=&quot;&quot;&gt;Help&lt;/a&gt;&lt;/li&gt;\\\\n&lt;li class=&quot;tier-2 element-5&quot; role=&quot;treeitem&quot;&gt;&lt;a href=&quot;http://brochure.getpython.info/&quot; title=&quot;&quot;&gt;Python Brochure&lt;/a&gt;&lt;/li&gt;\\\\n&lt;/ul&gt;\\\\n&lt;/li&gt;&#39;</span>\\n</pre></div>\\n</div>\\n<p>Select an <code class=\"xref py py-class docutils literal notranslate\"><span class=\"pre\">Element</span></code> list within an <code class=\"xref py py-class docutils literal notranslate\"><span class=\"pre\">Element</span></code>:</p>\\n<div class=\"highlight-pycon notranslate\"><div class=\"highlight\"><pre><span></span><span class=\"gp\">&gt;&gt;&gt; </span><span class=\"n\">about</span><span class=\"o\">.</span><span class=\"n\">find</span><span class=\"p\">(</span><span class=\"s1\">&#39;a&#39;</span><span class=\"p\">)</span>\\n<span class=\"go\">[&lt;Element &#39;a&#39; href=&#39;/about/&#39; title=&#39;&#39; class=&#39;&#39;&gt;, &lt;Element &#39;a&#39; href=&#39;/about/apps/&#39; title=&#39;&#39;&gt;, &lt;Element &#39;a&#39; href=&#39;/about/quotes/&#39; title=&#39;&#39;&gt;, &lt;Element &#39;a&#39; href=&#39;/about/gettingstarted/&#39; title=&#39;&#39;&gt;, &lt;Element &#39;a&#39; href=&#39;/about/help/&#39; title=&#39;&#39;&gt;, &lt;Element &#39;a&#39; href=&#39;http://brochure.getpython.info/&#39; title=&#39;&#39;&gt;]</span>\\n</pre></div>\\n</div>\\n<p>Search for links within an element:</p>\\n<div class=\"highlight-pycon notranslate\"><div class=\"highlight\"><pre><span></span><span class=\"gp\">&gt;&gt;&gt; </span><span class=\"n\">about</span><span class=\"o\">.</span><span class=\"n\">absolute_links</span>\\n<span class=\"go\">{&#39;http://brochure.getpython.info/&#39;, &#39;https://www.python.org/about/gettingstarted/&#39;, &#39;https://www.python.org/about/&#39;, &#39;https://www.python.org/about/quotes/&#39;, &#39;https://www.python.org/about/help/&#39;, &#39;https://www.python.org/about/apps/&#39;}</span>\\n</pre></div>\\n</div>\\n<p>Search for text on the page:</p>\\n<div class=\"highlight-pycon notranslate\"><div class=\"highlight\"><pre><span></span><span class=\"gp\">&gt;&gt;&gt; </span><span class=\"n\">r</span><span class=\"o\">.</span><span class=\"n\">html</span><span class=\"o\">.</span><span class=\"n\">search</span><span class=\"p\">(</span><span class=\"s1\">&#39;Python is a {} language&#39;</span><span class=\"p\">)[</span><span class=\"mi\">0</span><span class=\"p\">]</span>\\n<span class=\"go\">programming</span>\\n</pre></div>\\n</div>\\n<p>More complex CSS Selector example (copied from Chrome dev tools):</p>\\n<div class=\"highlight-pycon notranslate\"><div class=\"highlight\"><pre><span></span><span class=\"gp\">&gt;&gt;&gt; </span><span class=\"n\">r</span> <span class=\"o\">=</span> <span class=\"n\">session</span><span class=\"o\">.</span><span class=\"n\">get</span><span class=\"p\">(</span><span class=\"s1\">&#39;https://github.com/&#39;</span><span class=\"p\">)</span>\\n<span class=\"gp\">&gt;&gt;&gt; </span><span class=\"n\">sel</span> <span class=\"o\">=</span> <span class=\"s1\">&#39;body &gt; div.application-main &gt; div.jumbotron.jumbotron-codelines &gt; div &gt; div &gt; div.col-md-7.text-center.text-md-left &gt; p&#39;</span>\\n\\n<span class=\"gp\">&gt;&gt;&gt; </span><span class=\"k\">print</span><span class=\"p\">(</span><span class=\"n\">r</span><span class=\"o\">.</span><span class=\"n\">html</span><span class=\"o\">.</span><span class=\"n\">find</span><span class=\"p\">(</span><span class=\"n\">sel</span><span class=\"p\">,</span> <span class=\"n\">first</span><span class=\"o\">=</span><span class=\"bp\">True</span><span class=\"p\">)</span><span class=\"o\">.</span><span class=\"n\">text</span><span class=\"p\">)</span>\\n<span class=\"go\">GitHub is a development platform inspired by the way you work. From open source to business, you can host and review code, manage projects, and build software alongside millions of other\\xa0developers.</span>\\n</pre></div>\\n</div>\\n<p>XPath is also supported (<a class=\"reference external\" href=\"https://msdn.microsoft.com/en-us/library/ms256086(v=vs.110).aspx\">learn more</a>):</p>\\n<div class=\"highlight-pycon notranslate\"><div class=\"highlight\"><pre><span></span><span class=\"gp\">&gt;&gt;&gt; </span><span class=\"n\">r</span><span class=\"o\">.</span><span class=\"n\">html</span><span class=\"o\">.</span><span class=\"n\">xpath</span><span class=\"p\">(</span><span class=\"s1\">&#39;a&#39;</span><span class=\"p\">)</span>\\n<span class=\"go\">[&lt;Element &#39;a&#39; class=&#39;btn&#39; href=&#39;https://help.github.com/articles/supported-browsers&#39;&gt;]</span>\\n</pre></div>\\n</div>\\n<p>You can also select only elements containing certain text:</p>\\n<div class=\"highlight-pycon notranslate\"><div class=\"highlight\"><pre><span></span><span class=\"gp\">&gt;&gt;&gt; </span><span class=\"n\">r</span> <span class=\"o\">=</span> <span class=\"n\">session</span><span class=\"o\">.</span><span class=\"n\">get</span><span class=\"p\">(</span><span class=\"s1\">&#39;http://python-requests.org/&#39;</span><span class=\"p\">)</span>\\n<span class=\"gp\">&gt;&gt;&gt; </span><span class=\"n\">r</span><span class=\"o\">.</span><span class=\"n\">html</span><span class=\"o\">.</span><span class=\"n\">find</span><span class=\"p\">(</span><span class=\"s1\">&#39;a&#39;</span><span class=\"p\">,</span> <span class=\"n\">containing</span><span class=\"o\">=</span><span class=\"s1\">&#39;kenneth&#39;</span><span class=\"p\">)</span>\\n<span class=\"go\">[&lt;Element &#39;a&#39; href=&#39;http://kennethreitz.com/pages/open-projects.html&#39;&gt;, &lt;Element &#39;a&#39; href=&#39;http://kennethreitz.org/&#39;&gt;, &lt;Element &#39;a&#39; href=&#39;https://twitter.com/kennethreitz&#39; class=(&#39;twitter-follow-button&#39;,) data-show-count=&#39;false&#39;&gt;, &lt;Element &#39;a&#39; class=(&#39;reference&#39;, &#39;internal&#39;) href=&#39;dev/contributing/#kenneth-reitz-s-code-style&#39;&gt;]</span>\\n</pre></div>\\n</div>\\n</div>\\n<div class=\"section\" id=\"javascript-support\">\\n<h1>JavaScript Support<a class=\"headerlink\" href=\"#javascript-support\" title=\"Permalink to this headline\">¶</a></h1>\\n<p>Let’s grab some text that’s rendered by JavaScript:</p>\\n<div class=\"highlight-pycon notranslate\"><div class=\"highlight\"><pre><span></span><span class=\"gp\">&gt;&gt;&gt; </span><span class=\"n\">r</span> <span class=\"o\">=</span> <span class=\"n\">session</span><span class=\"o\">.</span><span class=\"n\">get</span><span class=\"p\">(</span><span class=\"s1\">&#39;http://python-requests.org/&#39;</span><span class=\"p\">)</span>\\n\\n<span class=\"gp\">&gt;&gt;&gt; </span><span class=\"n\">r</span><span class=\"o\">.</span><span class=\"n\">html</span><span class=\"o\">.</span><span class=\"n\">render</span><span class=\"p\">()</span>\\n\\n<span class=\"gp\">&gt;&gt;&gt; </span><span class=\"n\">r</span><span class=\"o\">.</span><span class=\"n\">html</span><span class=\"o\">.</span><span class=\"n\">search</span><span class=\"p\">(</span><span class=\"s1\">&#39;Python 2 will retire in only {months} months!&#39;</span><span class=\"p\">)[</span><span class=\"s1\">&#39;months&#39;</span><span class=\"p\">]</span>\\n<span class=\"go\">&#39;&lt;time&gt;25&lt;/time&gt;&#39;</span>\\n</pre></div>\\n</div>\\n<p>Note, the first time you ever run the <code class=\"docutils literal notranslate\"><span class=\"pre\">render()</span></code> method, it will download\\nChromium into your home directory (e.g. <code class=\"docutils literal notranslate\"><span class=\"pre\">~/.pyppeteer/</span></code>). This only happens\\nonce.</p>\\n</div>\\n<div class=\"section\" id=\"pagination\">\\n<h1>Pagination<a class=\"headerlink\" href=\"#pagination\" title=\"Permalink to this headline\">¶</a></h1>\\n<p>There’s also intelligent pagination support (always improving):</p>\\n<div class=\"highlight-pycon notranslate\"><div class=\"highlight\"><pre><span></span><span class=\"gp\">&gt;&gt;&gt; </span><span class=\"n\">r</span> <span class=\"o\">=</span> <span class=\"n\">session</span><span class=\"o\">.</span><span class=\"n\">get</span><span class=\"p\">(</span><span class=\"s1\">&#39;https://reddit.com&#39;</span><span class=\"p\">)</span>\\n<span class=\"gp\">&gt;&gt;&gt; </span><span class=\"k\">for</span> <span class=\"n\">html</span> <span class=\"ow\">in</span> <span class=\"n\">r</span><span class=\"o\">.</span><span class=\"n\">html</span><span class=\"p\">:</span>\\n<span class=\"gp\">... </span>    <span class=\"k\">print</span><span class=\"p\">(</span><span class=\"n\">html</span><span class=\"p\">)</span>\\n<span class=\"go\">&lt;HTML url=&#39;https://www.reddit.com/&#39;&gt;</span>\\n<span class=\"go\">&lt;HTML url=&#39;https://www.reddit.com/?count=25&amp;after=t3_81puu5&#39;&gt;</span>\\n<span class=\"go\">&lt;HTML url=&#39;https://www.reddit.com/?count=50&amp;after=t3_81nevg&#39;&gt;</span>\\n<span class=\"go\">&lt;HTML url=&#39;https://www.reddit.com/?count=75&amp;after=t3_81lqtp&#39;&gt;</span>\\n<span class=\"go\">&lt;HTML url=&#39;https://www.reddit.com/?count=100&amp;after=t3_81k1c8&#39;&gt;</span>\\n<span class=\"go\">&lt;HTML url=&#39;https://www.reddit.com/?count=125&amp;after=t3_81p438&#39;&gt;</span>\\n<span class=\"go\">&lt;HTML url=&#39;https://www.reddit.com/?count=150&amp;after=t3_81nrcd&#39;&gt;</span>\\n<span class=\"go\">…</span>\\n</pre></div>\\n</div>\\n<p>You can also just request the next URL easily:</p>\\n<div class=\"highlight-pycon notranslate\"><div class=\"highlight\"><pre><span></span><span class=\"gp\">&gt;&gt;&gt; </span><span class=\"n\">r</span> <span class=\"o\">=</span> <span class=\"n\">session</span><span class=\"o\">.</span><span class=\"n\">get</span><span class=\"p\">(</span><span class=\"s1\">&#39;https://reddit.com&#39;</span><span class=\"p\">)</span>\\n<span class=\"gp\">&gt;&gt;&gt; </span><span class=\"n\">r</span><span class=\"o\">.</span><span class=\"n\">html</span><span class=\"o\">.</span><span class=\"n\">next</span><span class=\"p\">()</span>\\n<span class=\"go\">&#39;https://www.reddit.com/?count=25&amp;after=t3_81pm82&#39;</span>\\n</pre></div>\\n</div>\\n</div>\\n<div class=\"section\" id=\"using-without-requests\">\\n<h1>Using without Requests<a class=\"headerlink\" href=\"#using-without-requests\" title=\"Permalink to this headline\">¶</a></h1>\\n<p>You can also use this library without Requests:</p>\\n<div class=\"highlight-pycon notranslate\"><div class=\"highlight\"><pre><span></span><span class=\"gp\">&gt;&gt;&gt; </span><span class=\"kn\">from</span> <span class=\"nn\">requests_html</span> <span class=\"kn\">import</span> <span class=\"n\">HTML</span>\\n<span class=\"gp\">&gt;&gt;&gt; </span><span class=\"n\">doc</span> <span class=\"o\">=</span> <span class=\"s2\">&quot;&quot;&quot;&lt;a href=&#39;https://httpbin.org&#39;&gt;&quot;&quot;&quot;</span>\\n\\n<span class=\"gp\">&gt;&gt;&gt; </span><span class=\"n\">html</span> <span class=\"o\">=</span> <span class=\"n\">HTML</span><span class=\"p\">(</span><span class=\"n\">html</span><span class=\"o\">=</span><span class=\"n\">doc</span><span class=\"p\">)</span>\\n<span class=\"gp\">&gt;&gt;&gt; </span><span class=\"n\">html</span><span class=\"o\">.</span><span class=\"n\">links</span>\\n<span class=\"go\">{&#39;https://httpbin.org&#39;}</span>\\n</pre></div>\\n</div>\\n<p>You can also render JavaScript pages without Requests:</p>\\n<div class=\"highlight-pycon notranslate\"><div class=\"highlight\"><pre><span></span><span class=\"go\"># ^^ proceeding from above ^^</span>\\n<span class=\"gp\">&gt;&gt;&gt; </span><span class=\"n\">script</span> <span class=\"o\">=</span> <span class=\"s2\">&quot;&quot;&quot;</span>\\n<span class=\"go\">        () =&gt; {</span>\\n<span class=\"go\">            return {</span>\\n<span class=\"go\">                width: document.documentElement.clientWidth,</span>\\n<span class=\"go\">                height: document.documentElement.clientHeight,</span>\\n<span class=\"go\">                deviceScaleFactor: window.devicePixelRatio,</span>\\n<span class=\"go\">            }</span>\\n<span class=\"go\">        }</span>\\n<span class=\"go\">    &quot;&quot;&quot;</span>\\n<span class=\"gp\">&gt;&gt;&gt; </span><span class=\"n\">val</span> <span class=\"o\">=</span> <span class=\"n\">html</span><span class=\"o\">.</span><span class=\"n\">render</span><span class=\"p\">(</span><span class=\"n\">script</span><span class=\"o\">=</span><span class=\"n\">script</span><span class=\"p\">,</span> <span class=\"nb\">reload</span><span class=\"o\">=</span><span class=\"bp\">False</span><span class=\"p\">)</span>\\n\\n<span class=\"gp\">&gt;&gt;&gt; </span><span class=\"k\">print</span><span class=\"p\">(</span><span class=\"n\">val</span><span class=\"p\">)</span>\\n<span class=\"go\">{&#39;width&#39;: 800, &#39;height&#39;: 600, &#39;deviceScaleFactor&#39;: 1}</span>\\n\\n<span class=\"gp\">&gt;&gt;&gt; </span><span class=\"k\">print</span><span class=\"p\">(</span><span class=\"n\">html</span><span class=\"o\">.</span><span class=\"n\">html</span><span class=\"p\">)</span>\\n<span class=\"go\">&lt;html&gt;&lt;head&gt;&lt;/head&gt;&lt;body&gt;&lt;a href=&quot;https://httpbin.org&quot;&gt;&lt;/a&gt;&lt;/body&gt;&lt;/html&gt;</span>\\n</pre></div>\\n</div>\\n</div>\\n<div class=\"section\" id=\"api-documentation\">\\n<h1>API Documentation<a class=\"headerlink\" href=\"#api-documentation\" title=\"Permalink to this headline\">¶</a></h1>\\n<div class=\"section\" id=\"module-requests_html\">\\n<span id=\"main-classes\"></span><h2>Main Classes<a class=\"headerlink\" href=\"#module-requests_html\" title=\"Permalink to this headline\">¶</a></h2>\\n<p>These classes are the main interface to <code class=\"docutils literal notranslate\"><span class=\"pre\">requests-html</span></code>:</p>\\n<dl class=\"class\">\\n<dt id=\"requests_html.HTML\">\\n<em class=\"property\">class </em><code class=\"descclassname\">requests_html.</code><code class=\"descname\">HTML</code><span class=\"sig-paren\">(</span><em>*, url: str = \\'https://example.org/\\', html: Union[str, bytes], default_encoding: str = \\'utf-8\\'</em><span class=\"sig-paren\">)</span> &#x2192; None<a class=\"reference internal\" href=\"_modules/requests_html.html#HTML\"><span class=\"viewcode-link\">[source]</span></a><a class=\"headerlink\" href=\"#requests_html.HTML\" title=\"Permalink to this definition\">¶</a></dt>\\n<dd><p>An HTML document, ready for parsing.</p>\\n<table class=\"docutils field-list\" frame=\"void\" rules=\"none\">\\n<col class=\"field-name\" />\\n<col class=\"field-body\" />\\n<tbody valign=\"top\">\\n<tr class=\"field-odd field\"><th class=\"field-name\">Parameters:</th><td class=\"field-body\"><ul class=\"first last simple\">\\n<li><strong>url</strong> – The URL from which the HTML originated, used for <code class=\"docutils literal notranslate\"><span class=\"pre\">absolute_links</span></code>.</li>\\n<li><strong>html</strong> – HTML from which to base the parsing upon (optional).</li>\\n<li><strong>default_encoding</strong> – Which encoding to default to.</li>\\n</ul>\\n</td>\\n</tr>\\n</tbody>\\n</table>\\n<dl class=\"attribute\">\\n<dt id=\"requests_html.HTML.absolute_links\">\\n<code class=\"descname\">absolute_links</code><a class=\"headerlink\" href=\"#requests_html.HTML.absolute_links\" title=\"Permalink to this definition\">¶</a></dt>\\n<dd><p>All found links on page, in absolute form\\n(<a class=\"reference external\" href=\"https://www.navegabem.com/absolute-or-relative-links.html\">learn more</a>).</p>\\n</dd></dl>\\n\\n<dl class=\"attribute\">\\n<dt id=\"requests_html.HTML.base_url\">\\n<code class=\"descname\">base_url</code><a class=\"headerlink\" href=\"#requests_html.HTML.base_url\" title=\"Permalink to this definition\">¶</a></dt>\\n<dd><p>The base URL for the page. Supports the <code class=\"docutils literal notranslate\"><span class=\"pre\">&lt;base&gt;</span></code> tag\\n(<a class=\"reference external\" href=\"https://www.w3schools.com/tags/tag_base.asp\">learn more</a>).</p>\\n</dd></dl>\\n\\n<dl class=\"attribute\">\\n<dt id=\"requests_html.HTML.encoding\">\\n<code class=\"descname\">encoding</code><a class=\"headerlink\" href=\"#requests_html.HTML.encoding\" title=\"Permalink to this definition\">¶</a></dt>\\n<dd><p>The encoding string to be used, extracted from the HTML and\\n<code class=\"xref py py-class docutils literal notranslate\"><span class=\"pre\">HTMLResponse</span></code> headers.</p>\\n</dd></dl>\\n\\n<dl class=\"method\">\\n<dt id=\"requests_html.HTML.find\">\\n<code class=\"descname\">find</code><span class=\"sig-paren\">(</span><em>selector: str = \\'*\\'</em>, <em>*</em>, <em>containing: Union[str</em>, <em>typing.List[str]] = None</em>, <em>clean: bool = False</em>, <em>first: bool = False</em>, <em>_encoding: str = None</em><span class=\"sig-paren\">)</span> &#x2192; Union[typing.List[_ForwardRef(\\'Element\\')], _ForwardRef(\\'Element\\')]<a class=\"headerlink\" href=\"#requests_html.HTML.find\" title=\"Permalink to this definition\">¶</a></dt>\\n<dd><p>Given a CSS Selector, returns a list of\\n<a class=\"reference internal\" href=\"#requests_html.Element\" title=\"requests_html.Element\"><code class=\"xref py py-class docutils literal notranslate\"><span class=\"pre\">Element</span></code></a> objects or a single one.</p>\\n<table class=\"docutils field-list\" frame=\"void\" rules=\"none\">\\n<col class=\"field-name\" />\\n<col class=\"field-body\" />\\n<tbody valign=\"top\">\\n<tr class=\"field-odd field\"><th class=\"field-name\">Parameters:</th><td class=\"field-body\"><ul class=\"first last simple\">\\n<li><strong>selector</strong> – CSS Selector to use.</li>\\n<li><strong>clean</strong> – Whether or not to sanitize the found HTML of <code class=\"docutils literal notranslate\"><span class=\"pre\">&lt;script&gt;</span></code> and <code class=\"docutils literal notranslate\"><span class=\"pre\">&lt;style&gt;</span></code> tags.</li>\\n<li><strong>containing</strong> – If specified, only return elements that contain the provided text.</li>\\n<li><strong>first</strong> – Whether or not to return just the first result.</li>\\n<li><strong>_encoding</strong> – The encoding format.</li>\\n</ul>\\n</td>\\n</tr>\\n</tbody>\\n</table>\\n<p>Example CSS Selectors:</p>\\n<ul class=\"simple\">\\n<li><code class=\"docutils literal notranslate\"><span class=\"pre\">a</span></code></li>\\n<li><code class=\"docutils literal notranslate\"><span class=\"pre\">a.someClass</span></code></li>\\n<li><code class=\"docutils literal notranslate\"><span class=\"pre\">a#someID</span></code></li>\\n<li><code class=\"docutils literal notranslate\"><span class=\"pre\">a[target=_blank]</span></code></li>\\n</ul>\\n<p>See W3School’s <a class=\"reference external\" href=\"https://www.w3schools.com/cssref/css_selectors.asp\">CSS Selectors Reference</a>\\nfor more details.</p>\\n<p>If <code class=\"docutils literal notranslate\"><span class=\"pre\">first</span></code> is <code class=\"docutils literal notranslate\"><span class=\"pre\">True</span></code>, only returns the first\\n<a class=\"reference internal\" href=\"#requests_html.Element\" title=\"requests_html.Element\"><code class=\"xref py py-class docutils literal notranslate\"><span class=\"pre\">Element</span></code></a> found.</p>\\n</dd></dl>\\n\\n<dl class=\"attribute\">\\n<dt id=\"requests_html.HTML.full_text\">\\n<code class=\"descname\">full_text</code><a class=\"headerlink\" href=\"#requests_html.HTML.full_text\" title=\"Permalink to this definition\">¶</a></dt>\\n<dd><p>The full text content (including links) of the\\n<a class=\"reference internal\" href=\"#requests_html.Element\" title=\"requests_html.Element\"><code class=\"xref py py-class docutils literal notranslate\"><span class=\"pre\">Element</span></code></a> or <a class=\"reference internal\" href=\"#requests_html.HTML\" title=\"requests_html.HTML\"><code class=\"xref py py-class docutils literal notranslate\"><span class=\"pre\">HTML</span></code></a>.</p>\\n</dd></dl>\\n\\n<dl class=\"attribute\">\\n<dt id=\"requests_html.HTML.html\">\\n<code class=\"descname\">html</code><a class=\"headerlink\" href=\"#requests_html.HTML.html\" title=\"Permalink to this definition\">¶</a></dt>\\n<dd><p>Unicode representation of the HTML content\\n(<a class=\"reference external\" href=\"http://www.diveintopython3.net/strings.html\">learn more</a>).</p>\\n</dd></dl>\\n\\n<dl class=\"attribute\">\\n<dt id=\"requests_html.HTML.links\">\\n<code class=\"descname\">links</code><a class=\"headerlink\" href=\"#requests_html.HTML.links\" title=\"Permalink to this definition\">¶</a></dt>\\n<dd><p>All found links on page, in as–is form.</p>\\n</dd></dl>\\n\\n<dl class=\"attribute\">\\n<dt id=\"requests_html.HTML.lxml\">\\n<code class=\"descname\">lxml</code><a class=\"headerlink\" href=\"#requests_html.HTML.lxml\" title=\"Permalink to this definition\">¶</a></dt>\\n<dd><p><a class=\"reference external\" href=\"http://lxml.de\">lxml</a> representation of the\\n<a class=\"reference internal\" href=\"#requests_html.Element\" title=\"requests_html.Element\"><code class=\"xref py py-class docutils literal notranslate\"><span class=\"pre\">Element</span></code></a> or <a class=\"reference internal\" href=\"#requests_html.HTML\" title=\"requests_html.HTML\"><code class=\"xref py py-class docutils literal notranslate\"><span class=\"pre\">HTML</span></code></a>.</p>\\n</dd></dl>\\n\\n<dl class=\"method\">\\n<dt id=\"requests_html.HTML.next\">\\n<code class=\"descname\">next</code><span class=\"sig-paren\">(</span><em>fetch: bool = False</em><span class=\"sig-paren\">)</span> &#x2192; Union[_ForwardRef(\\'HTML\\'), typing.List[str]]<a class=\"headerlink\" href=\"#requests_html.HTML.next\" title=\"Permalink to this definition\">¶</a></dt>\\n<dd><p>Attempts to find the next page, if there is one. If <code class=\"docutils literal notranslate\"><span class=\"pre\">fetch</span></code>\\nis <code class=\"docutils literal notranslate\"><span class=\"pre\">True</span></code> (default), returns <a class=\"reference internal\" href=\"#requests_html.HTML\" title=\"requests_html.HTML\"><code class=\"xref py py-class docutils literal notranslate\"><span class=\"pre\">HTML</span></code></a> object of\\nnext page. If <code class=\"docutils literal notranslate\"><span class=\"pre\">fetch</span></code> is <code class=\"docutils literal notranslate\"><span class=\"pre\">False</span></code>, simply returns the next URL.</p>\\n</dd></dl>\\n\\n<dl class=\"attribute\">\\n<dt id=\"requests_html.HTML.pq\">\\n<code class=\"descname\">pq</code><a class=\"headerlink\" href=\"#requests_html.HTML.pq\" title=\"Permalink to this definition\">¶</a></dt>\\n<dd><p><a class=\"reference external\" href=\"https://pythonhosted.org/pyquery/\">PyQuery</a> representation\\nof the <a class=\"reference internal\" href=\"#requests_html.Element\" title=\"requests_html.Element\"><code class=\"xref py py-class docutils literal notranslate\"><span class=\"pre\">Element</span></code></a> or <a class=\"reference internal\" href=\"#requests_html.HTML\" title=\"requests_html.HTML\"><code class=\"xref py py-class docutils literal notranslate\"><span class=\"pre\">HTML</span></code></a>.</p>\\n</dd></dl>\\n\\n<dl class=\"attribute\">\\n<dt id=\"requests_html.HTML.raw_html\">\\n<code class=\"descname\">raw_html</code><a class=\"headerlink\" href=\"#requests_html.HTML.raw_html\" title=\"Permalink to this definition\">¶</a></dt>\\n<dd><p>Bytes representation of the HTML content.\\n(<a class=\"reference external\" href=\"http://www.diveintopython3.net/strings.html\">learn more</a>).</p>\\n</dd></dl>\\n\\n<dl class=\"method\">\\n<dt id=\"requests_html.HTML.render\">\\n<code class=\"descname\">render</code><span class=\"sig-paren\">(</span><em>retries: int = 8</em>, <em>script: str = None</em>, <em>wait: float = 0.2</em>, <em>scrolldown=False</em>, <em>sleep: int = 0</em>, <em>reload: bool = True</em>, <em>timeout: Union[float</em>, <em>int] = 8.0</em><span class=\"sig-paren\">)</span><a class=\"reference internal\" href=\"_modules/requests_html.html#HTML.render\"><span class=\"viewcode-link\">[source]</span></a><a class=\"headerlink\" href=\"#requests_html.HTML.render\" title=\"Permalink to this definition\">¶</a></dt>\\n<dd><p>Reloads the response in Chromium, and replaces HTML content\\nwith an updated version, with JavaScript executed.</p>\\n<table class=\"docutils field-list\" frame=\"void\" rules=\"none\">\\n<col class=\"field-name\" />\\n<col class=\"field-body\" />\\n<tbody valign=\"top\">\\n<tr class=\"field-odd field\"><th class=\"field-name\">Parameters:</th><td class=\"field-body\"><ul class=\"first last simple\">\\n<li><strong>retries</strong> – The number of times to retry loading the page in Chromium.</li>\\n<li><strong>script</strong> – JavaScript to execute upon page load (optional).</li>\\n<li><strong>wait</strong> – The number of seconds to wait before loading the page, preventing timeouts (optional).</li>\\n<li><strong>scrolldown</strong> – Integer, if provided, of how many times to page down.</li>\\n<li><strong>sleep</strong> – Integer, if provided, of how many long to sleep after initial render.</li>\\n<li><strong>reload</strong> – If <code class=\"docutils literal notranslate\"><span class=\"pre\">False</span></code>, content will not be loaded from the browser, but will be provided from memory.</li>\\n</ul>\\n</td>\\n</tr>\\n</tbody>\\n</table>\\n<p>If <code class=\"docutils literal notranslate\"><span class=\"pre\">scrolldown</span></code> is specified, the page will scrolldown the specified\\nnumber of times, after sleeping the specified amount of time\\n(e.g. <code class=\"docutils literal notranslate\"><span class=\"pre\">scrolldown=10,</span> <span class=\"pre\">sleep=1</span></code>).</p>\\n<p>If just <code class=\"docutils literal notranslate\"><span class=\"pre\">sleep</span></code> is provided, the rendering will wait <em>n</em> seconds, before\\nreturning.</p>\\n<p>If <code class=\"docutils literal notranslate\"><span class=\"pre\">script</span></code> is specified, it will execute the provided JavaScript at\\nruntime. Example:</p>\\n<div class=\"highlight-python notranslate\"><div class=\"highlight\"><pre><span></span><span class=\"n\">script</span> <span class=\"o\">=</span> <span class=\"s2\">&quot;&quot;&quot;</span>\\n<span class=\"s2\">    () =&gt; {</span>\\n<span class=\"s2\">        return {</span>\\n<span class=\"s2\">            width: document.documentElement.clientWidth,</span>\\n<span class=\"s2\">            height: document.documentElement.clientHeight,</span>\\n<span class=\"s2\">            deviceScaleFactor: window.devicePixelRatio,</span>\\n<span class=\"s2\">        }</span>\\n<span class=\"s2\">    }</span>\\n<span class=\"s2\">&quot;&quot;&quot;</span>\\n</pre></div>\\n</div>\\n<p>Returns the return value of the executed  <code class=\"docutils literal notranslate\"><span class=\"pre\">script</span></code>, if any is provided:</p>\\n<div class=\"highlight-python notranslate\"><div class=\"highlight\"><pre><span></span><span class=\"gp\">&gt;&gt;&gt; </span><span class=\"n\">r</span><span class=\"o\">.</span><span class=\"n\">html</span><span class=\"o\">.</span><span class=\"n\">render</span><span class=\"p\">(</span><span class=\"n\">script</span><span class=\"o\">=</span><span class=\"n\">script</span><span class=\"p\">)</span>\\n<span class=\"go\">{&#39;width&#39;: 800, &#39;height&#39;: 600, &#39;deviceScaleFactor&#39;: 1}</span>\\n</pre></div>\\n</div>\\n<p>Warning: the first time you run this method, it will download\\nChromium into your home directory (<code class=\"docutils literal notranslate\"><span class=\"pre\">~/.pyppeteer</span></code>).</p>\\n</dd></dl>\\n\\n<dl class=\"method\">\\n<dt id=\"requests_html.HTML.search\">\\n<code class=\"descname\">search</code><span class=\"sig-paren\">(</span><em>template: str</em><span class=\"sig-paren\">)</span> &#x2192; parse.Result<a class=\"headerlink\" href=\"#requests_html.HTML.search\" title=\"Permalink to this definition\">¶</a></dt>\\n<dd><p>Search the <a class=\"reference internal\" href=\"#requests_html.Element\" title=\"requests_html.Element\"><code class=\"xref py py-class docutils literal notranslate\"><span class=\"pre\">Element</span></code></a> for the given Parse template.</p>\\n<table class=\"docutils field-list\" frame=\"void\" rules=\"none\">\\n<col class=\"field-name\" />\\n<col class=\"field-body\" />\\n<tbody valign=\"top\">\\n<tr class=\"field-odd field\"><th class=\"field-name\">Parameters:</th><td class=\"field-body\"><strong>template</strong> – The Parse template to use.</td>\\n</tr>\\n</tbody>\\n</table>\\n</dd></dl>\\n\\n<dl class=\"method\">\\n<dt id=\"requests_html.HTML.search_all\">\\n<code class=\"descname\">search_all</code><span class=\"sig-paren\">(</span><em>template: str</em><span class=\"sig-paren\">)</span> &#x2192; Union[typing.List[_ForwardRef(\\'Result\\')], _ForwardRef(\\'Result\\')]<a class=\"headerlink\" href=\"#requests_html.HTML.search_all\" title=\"Permalink to this definition\">¶</a></dt>\\n<dd><p>Search the <a class=\"reference internal\" href=\"#requests_html.Element\" title=\"requests_html.Element\"><code class=\"xref py py-class docutils literal notranslate\"><span class=\"pre\">Element</span></code></a> (multiple times) for the given parse\\ntemplate.</p>\\n<table class=\"docutils field-list\" frame=\"void\" rules=\"none\">\\n<col class=\"field-name\" />\\n<col class=\"field-body\" />\\n<tbody valign=\"top\">\\n<tr class=\"field-odd field\"><th class=\"field-name\">Parameters:</th><td class=\"field-body\"><strong>template</strong> – The Parse template to use.</td>\\n</tr>\\n</tbody>\\n</table>\\n</dd></dl>\\n\\n<dl class=\"attribute\">\\n<dt id=\"requests_html.HTML.text\">\\n<code class=\"descname\">text</code><a class=\"headerlink\" href=\"#requests_html.HTML.text\" title=\"Permalink to this definition\">¶</a></dt>\\n<dd><p>The text content of the\\n<a class=\"reference internal\" href=\"#requests_html.Element\" title=\"requests_html.Element\"><code class=\"xref py py-class docutils literal notranslate\"><span class=\"pre\">Element</span></code></a> or <a class=\"reference internal\" href=\"#requests_html.HTML\" title=\"requests_html.HTML\"><code class=\"xref py py-class docutils literal notranslate\"><span class=\"pre\">HTML</span></code></a>.</p>\\n</dd></dl>\\n\\n<dl class=\"method\">\\n<dt id=\"requests_html.HTML.xpath\">\\n<code class=\"descname\">xpath</code><span class=\"sig-paren\">(</span><em>selector: str</em>, <em>*</em>, <em>clean: bool = False</em>, <em>first: bool = False</em>, <em>_encoding: str = None</em><span class=\"sig-paren\">)</span> &#x2192; Union[typing.List[str], typing.List[_ForwardRef(\\'Element\\')], str, _ForwardRef(\\'Element\\')]<a class=\"headerlink\" href=\"#requests_html.HTML.xpath\" title=\"Permalink to this definition\">¶</a></dt>\\n<dd><p>Given an XPath selector, returns a list of\\n<a class=\"reference internal\" href=\"#requests_html.Element\" title=\"requests_html.Element\"><code class=\"xref py py-class docutils literal notranslate\"><span class=\"pre\">Element</span></code></a> objects or a single one.</p>\\n<table class=\"docutils field-list\" frame=\"void\" rules=\"none\">\\n<col class=\"field-name\" />\\n<col class=\"field-body\" />\\n<tbody valign=\"top\">\\n<tr class=\"field-odd field\"><th class=\"field-name\">Parameters:</th><td class=\"field-body\"><ul class=\"first last simple\">\\n<li><strong>selector</strong> – XPath Selector to use.</li>\\n<li><strong>clean</strong> – Whether or not to sanitize the found HTML of <code class=\"docutils literal notranslate\"><span class=\"pre\">&lt;script&gt;</span></code> and <code class=\"docutils literal notranslate\"><span class=\"pre\">&lt;style&gt;</span></code> tags.</li>\\n<li><strong>first</strong> – Whether or not to return just the first result.</li>\\n<li><strong>_encoding</strong> – The encoding format.</li>\\n</ul>\\n</td>\\n</tr>\\n</tbody>\\n</table>\\n<p>If a sub-selector is specified (e.g. <code class=\"docutils literal notranslate\"><span class=\"pre\">//a/&#64;href</span></code>), a simple\\nlist of results is returned.</p>\\n<p>See W3School’s <a class=\"reference external\" href=\"https://www.w3schools.com/xml/xpath_examples.asp\">XPath Examples</a>\\nfor more details.</p>\\n<p>If <code class=\"docutils literal notranslate\"><span class=\"pre\">first</span></code> is <code class=\"docutils literal notranslate\"><span class=\"pre\">True</span></code>, only returns the first\\n<a class=\"reference internal\" href=\"#requests_html.Element\" title=\"requests_html.Element\"><code class=\"xref py py-class docutils literal notranslate\"><span class=\"pre\">Element</span></code></a> found.</p>\\n</dd></dl>\\n\\n</dd></dl>\\n\\n<dl class=\"class\">\\n<dt id=\"requests_html.Element\">\\n<em class=\"property\">class </em><code class=\"descclassname\">requests_html.</code><code class=\"descname\">Element</code><span class=\"sig-paren\">(</span><em>*</em>, <em>element</em>, <em>url: str</em>, <em>default_encoding: str = None</em><span class=\"sig-paren\">)</span> &#x2192; None<a class=\"reference internal\" href=\"_modules/requests_html.html#Element\"><span class=\"viewcode-link\">[source]</span></a><a class=\"headerlink\" href=\"#requests_html.Element\" title=\"Permalink to this definition\">¶</a></dt>\\n<dd><p>An element of HTML.</p>\\n<table class=\"docutils field-list\" frame=\"void\" rules=\"none\">\\n<col class=\"field-name\" />\\n<col class=\"field-body\" />\\n<tbody valign=\"top\">\\n<tr class=\"field-odd field\"><th class=\"field-name\">Parameters:</th><td class=\"field-body\"><ul class=\"first last simple\">\\n<li><strong>element</strong> – The element from which to base the parsing upon.</li>\\n<li><strong>url</strong> – The URL from which the HTML originated, used for <code class=\"docutils literal notranslate\"><span class=\"pre\">absolute_links</span></code>.</li>\\n<li><strong>default_encoding</strong> – Which encoding to default to.</li>\\n</ul>\\n</td>\\n</tr>\\n</tbody>\\n</table>\\n<dl class=\"attribute\">\\n<dt id=\"requests_html.Element.absolute_links\">\\n<code class=\"descname\">absolute_links</code><a class=\"headerlink\" href=\"#requests_html.Element.absolute_links\" title=\"Permalink to this definition\">¶</a></dt>\\n<dd><p>All found links on page, in absolute form\\n(<a class=\"reference external\" href=\"https://www.navegabem.com/absolute-or-relative-links.html\">learn more</a>).</p>\\n</dd></dl>\\n\\n<dl class=\"attribute\">\\n<dt id=\"requests_html.Element.attrs\">\\n<code class=\"descname\">attrs</code><a class=\"headerlink\" href=\"#requests_html.Element.attrs\" title=\"Permalink to this definition\">¶</a></dt>\\n<dd><p>Returns a dictionary of the attributes of the <a class=\"reference internal\" href=\"#requests_html.Element\" title=\"requests_html.Element\"><code class=\"xref py py-class docutils literal notranslate\"><span class=\"pre\">Element</span></code></a>\\n(<a class=\"reference external\" href=\"https://www.w3schools.com/tags/ref_attributes.asp\">learn more</a>).</p>\\n</dd></dl>\\n\\n<dl class=\"attribute\">\\n<dt id=\"requests_html.Element.base_url\">\\n<code class=\"descname\">base_url</code><a class=\"headerlink\" href=\"#requests_html.Element.base_url\" title=\"Permalink to this definition\">¶</a></dt>\\n<dd><p>The base URL for the page. Supports the <code class=\"docutils literal notranslate\"><span class=\"pre\">&lt;base&gt;</span></code> tag\\n(<a class=\"reference external\" href=\"https://www.w3schools.com/tags/tag_base.asp\">learn more</a>).</p>\\n</dd></dl>\\n\\n<dl class=\"attribute\">\\n<dt id=\"requests_html.Element.encoding\">\\n<code class=\"descname\">encoding</code><a class=\"headerlink\" href=\"#requests_html.Element.encoding\" title=\"Permalink to this definition\">¶</a></dt>\\n<dd><p>The encoding string to be used, extracted from the HTML and\\n<code class=\"xref py py-class docutils literal notranslate\"><span class=\"pre\">HTMLResponse</span></code> headers.</p>\\n</dd></dl>\\n\\n<dl class=\"method\">\\n<dt id=\"requests_html.Element.find\">\\n<code class=\"descname\">find</code><span class=\"sig-paren\">(</span><em>selector: str = \\'*\\'</em>, <em>*</em>, <em>containing: Union[str</em>, <em>typing.List[str]] = None</em>, <em>clean: bool = False</em>, <em>first: bool = False</em>, <em>_encoding: str = None</em><span class=\"sig-paren\">)</span> &#x2192; Union[typing.List[_ForwardRef(\\'Element\\')], _ForwardRef(\\'Element\\')]<a class=\"headerlink\" href=\"#requests_html.Element.find\" title=\"Permalink to this definition\">¶</a></dt>\\n<dd><p>Given a CSS Selector, returns a list of\\n<a class=\"reference internal\" href=\"#requests_html.Element\" title=\"requests_html.Element\"><code class=\"xref py py-class docutils literal notranslate\"><span class=\"pre\">Element</span></code></a> objects or a single one.</p>\\n<table class=\"docutils field-list\" frame=\"void\" rules=\"none\">\\n<col class=\"field-name\" />\\n<col class=\"field-body\" />\\n<tbody valign=\"top\">\\n<tr class=\"field-odd field\"><th class=\"field-name\">Parameters:</th><td class=\"field-body\"><ul class=\"first last simple\">\\n<li><strong>selector</strong> – CSS Selector to use.</li>\\n<li><strong>clean</strong> – Whether or not to sanitize the found HTML of <code class=\"docutils literal notranslate\"><span class=\"pre\">&lt;script&gt;</span></code> and <code class=\"docutils literal notranslate\"><span class=\"pre\">&lt;style&gt;</span></code> tags.</li>\\n<li><strong>containing</strong> – If specified, only return elements that contain the provided text.</li>\\n<li><strong>first</strong> – Whether or not to return just the first result.</li>\\n<li><strong>_encoding</strong> – The encoding format.</li>\\n</ul>\\n</td>\\n</tr>\\n</tbody>\\n</table>\\n<p>Example CSS Selectors:</p>\\n<ul class=\"simple\">\\n<li><code class=\"docutils literal notranslate\"><span class=\"pre\">a</span></code></li>\\n<li><code class=\"docutils literal notranslate\"><span class=\"pre\">a.someClass</span></code></li>\\n<li><code class=\"docutils literal notranslate\"><span class=\"pre\">a#someID</span></code></li>\\n<li><code class=\"docutils literal notranslate\"><span class=\"pre\">a[target=_blank]</span></code></li>\\n</ul>\\n<p>See W3School’s <a class=\"reference external\" href=\"https://www.w3schools.com/cssref/css_selectors.asp\">CSS Selectors Reference</a>\\nfor more details.</p>\\n<p>If <code class=\"docutils literal notranslate\"><span class=\"pre\">first</span></code> is <code class=\"docutils literal notranslate\"><span class=\"pre\">True</span></code>, only returns the first\\n<a class=\"reference internal\" href=\"#requests_html.Element\" title=\"requests_html.Element\"><code class=\"xref py py-class docutils literal notranslate\"><span class=\"pre\">Element</span></code></a> found.</p>\\n</dd></dl>\\n\\n<dl class=\"attribute\">\\n<dt id=\"requests_html.Element.full_text\">\\n<code class=\"descname\">full_text</code><a class=\"headerlink\" href=\"#requests_html.Element.full_text\" title=\"Permalink to this definition\">¶</a></dt>\\n<dd><p>The full text content (including links) of the\\n<a class=\"reference internal\" href=\"#requests_html.Element\" title=\"requests_html.Element\"><code class=\"xref py py-class docutils literal notranslate\"><span class=\"pre\">Element</span></code></a> or <a class=\"reference internal\" href=\"#requests_html.HTML\" title=\"requests_html.HTML\"><code class=\"xref py py-class docutils literal notranslate\"><span class=\"pre\">HTML</span></code></a>.</p>\\n</dd></dl>\\n\\n<dl class=\"attribute\">\\n<dt id=\"requests_html.Element.html\">\\n<code class=\"descname\">html</code><a class=\"headerlink\" href=\"#requests_html.Element.html\" title=\"Permalink to this definition\">¶</a></dt>\\n<dd><p>Unicode representation of the HTML content\\n(<a class=\"reference external\" href=\"http://www.diveintopython3.net/strings.html\">learn more</a>).</p>\\n</dd></dl>\\n\\n<dl class=\"attribute\">\\n<dt id=\"requests_html.Element.links\">\\n<code class=\"descname\">links</code><a class=\"headerlink\" href=\"#requests_html.Element.links\" title=\"Permalink to this definition\">¶</a></dt>\\n<dd><p>All found links on page, in as–is form.</p>\\n</dd></dl>\\n\\n<dl class=\"attribute\">\\n<dt id=\"requests_html.Element.lxml\">\\n<code class=\"descname\">lxml</code><a class=\"headerlink\" href=\"#requests_html.Element.lxml\" title=\"Permalink to this definition\">¶</a></dt>\\n<dd><p><a class=\"reference external\" href=\"http://lxml.de\">lxml</a> representation of the\\n<a class=\"reference internal\" href=\"#requests_html.Element\" title=\"requests_html.Element\"><code class=\"xref py py-class docutils literal notranslate\"><span class=\"pre\">Element</span></code></a> or <a class=\"reference internal\" href=\"#requests_html.HTML\" title=\"requests_html.HTML\"><code class=\"xref py py-class docutils literal notranslate\"><span class=\"pre\">HTML</span></code></a>.</p>\\n</dd></dl>\\n\\n<dl class=\"method\">\\n<dt id=\"requests_html.Element.next\">\\n<code class=\"descname\">next</code><span class=\"sig-paren\">(</span><em>fetch: bool = False</em><span class=\"sig-paren\">)</span> &#x2192; Union[_ForwardRef(\\'HTML\\'), typing.List[str]]<a class=\"headerlink\" href=\"#requests_html.Element.next\" title=\"Permalink to this definition\">¶</a></dt>\\n<dd><p>Attempts to find the next page, if there is one. If <code class=\"docutils literal notranslate\"><span class=\"pre\">fetch</span></code>\\nis <code class=\"docutils literal notranslate\"><span class=\"pre\">True</span></code> (default), returns <a class=\"reference internal\" href=\"#requests_html.HTML\" title=\"requests_html.HTML\"><code class=\"xref py py-class docutils literal notranslate\"><span class=\"pre\">HTML</span></code></a> object of\\nnext page. If <code class=\"docutils literal notranslate\"><span class=\"pre\">fetch</span></code> is <code class=\"docutils literal notranslate\"><span class=\"pre\">False</span></code>, simply returns the next URL.</p>\\n</dd></dl>\\n\\n<dl class=\"attribute\">\\n<dt id=\"requests_html.Element.pq\">\\n<code class=\"descname\">pq</code><a class=\"headerlink\" href=\"#requests_html.Element.pq\" title=\"Permalink to this definition\">¶</a></dt>\\n<dd><p><a class=\"reference external\" href=\"https://pythonhosted.org/pyquery/\">PyQuery</a> representation\\nof the <a class=\"reference internal\" href=\"#requests_html.Element\" title=\"requests_html.Element\"><code class=\"xref py py-class docutils literal notranslate\"><span class=\"pre\">Element</span></code></a> or <a class=\"reference internal\" href=\"#requests_html.HTML\" title=\"requests_html.HTML\"><code class=\"xref py py-class docutils literal notranslate\"><span class=\"pre\">HTML</span></code></a>.</p>\\n</dd></dl>\\n\\n<dl class=\"attribute\">\\n<dt id=\"requests_html.Element.raw_html\">\\n<code class=\"descname\">raw_html</code><a class=\"headerlink\" href=\"#requests_html.Element.raw_html\" title=\"Permalink to this definition\">¶</a></dt>\\n<dd><p>Bytes representation of the HTML content.\\n(<a class=\"reference external\" href=\"http://www.diveintopython3.net/strings.html\">learn more</a>).</p>\\n</dd></dl>\\n\\n<dl class=\"method\">\\n<dt id=\"requests_html.Element.search\">\\n<code class=\"descname\">search</code><span class=\"sig-paren\">(</span><em>template: str</em><span class=\"sig-paren\">)</span> &#x2192; parse.Result<a class=\"headerlink\" href=\"#requests_html.Element.search\" title=\"Permalink to this definition\">¶</a></dt>\\n<dd><p>Search the <a class=\"reference internal\" href=\"#requests_html.Element\" title=\"requests_html.Element\"><code class=\"xref py py-class docutils literal notranslate\"><span class=\"pre\">Element</span></code></a> for the given Parse template.</p>\\n<table class=\"docutils field-list\" frame=\"void\" rules=\"none\">\\n<col class=\"field-name\" />\\n<col class=\"field-body\" />\\n<tbody valign=\"top\">\\n<tr class=\"field-odd field\"><th class=\"field-name\">Parameters:</th><td class=\"field-body\"><strong>template</strong> – The Parse template to use.</td>\\n</tr>\\n</tbody>\\n</table>\\n</dd></dl>\\n\\n<dl class=\"method\">\\n<dt id=\"requests_html.Element.search_all\">\\n<code class=\"descname\">search_all</code><span class=\"sig-paren\">(</span><em>template: str</em><span class=\"sig-paren\">)</span> &#x2192; Union[typing.List[_ForwardRef(\\'Result\\')], _ForwardRef(\\'Result\\')]<a class=\"headerlink\" href=\"#requests_html.Element.search_all\" title=\"Permalink to this definition\">¶</a></dt>\\n<dd><p>Search the <a class=\"reference internal\" href=\"#requests_html.Element\" title=\"requests_html.Element\"><code class=\"xref py py-class docutils literal notranslate\"><span class=\"pre\">Element</span></code></a> (multiple times) for the given parse\\ntemplate.</p>\\n<table class=\"docutils field-list\" frame=\"void\" rules=\"none\">\\n<col class=\"field-name\" />\\n<col class=\"field-body\" />\\n<tbody valign=\"top\">\\n<tr class=\"field-odd field\"><th class=\"field-name\">Parameters:</th><td class=\"field-body\"><strong>template</strong> – The Parse template to use.</td>\\n</tr>\\n</tbody>\\n</table>\\n</dd></dl>\\n\\n<dl class=\"attribute\">\\n<dt id=\"requests_html.Element.text\">\\n<code class=\"descname\">text</code><a class=\"headerlink\" href=\"#requests_html.Element.text\" title=\"Permalink to this definition\">¶</a></dt>\\n<dd><p>The text content of the\\n<a class=\"reference internal\" href=\"#requests_html.Element\" title=\"requests_html.Element\"><code class=\"xref py py-class docutils literal notranslate\"><span class=\"pre\">Element</span></code></a> or <a class=\"reference internal\" href=\"#requests_html.HTML\" title=\"requests_html.HTML\"><code class=\"xref py py-class docutils literal notranslate\"><span class=\"pre\">HTML</span></code></a>.</p>\\n</dd></dl>\\n\\n<dl class=\"method\">\\n<dt id=\"requests_html.Element.xpath\">\\n<code class=\"descname\">xpath</code><span class=\"sig-paren\">(</span><em>selector: str</em>, <em>*</em>, <em>clean: bool = False</em>, <em>first: bool = False</em>, <em>_encoding: str = None</em><span class=\"sig-paren\">)</span> &#x2192; Union[typing.List[str], typing.List[_ForwardRef(\\'Element\\')], str, _ForwardRef(\\'Element\\')]<a class=\"headerlink\" href=\"#requests_html.Element.xpath\" title=\"Permalink to this definition\">¶</a></dt>\\n<dd><p>Given an XPath selector, returns a list of\\n<a class=\"reference internal\" href=\"#requests_html.Element\" title=\"requests_html.Element\"><code class=\"xref py py-class docutils literal notranslate\"><span class=\"pre\">Element</span></code></a> objects or a single one.</p>\\n<table class=\"docutils field-list\" frame=\"void\" rules=\"none\">\\n<col class=\"field-name\" />\\n<col class=\"field-body\" />\\n<tbody valign=\"top\">\\n<tr class=\"field-odd field\"><th class=\"field-name\">Parameters:</th><td class=\"field-body\"><ul class=\"first last simple\">\\n<li><strong>selector</strong> – XPath Selector to use.</li>\\n<li><strong>clean</strong> – Whether or not to sanitize the found HTML of <code class=\"docutils literal notranslate\"><span class=\"pre\">&lt;script&gt;</span></code> and <code class=\"docutils literal notranslate\"><span class=\"pre\">&lt;style&gt;</span></code> tags.</li>\\n<li><strong>first</strong> – Whether or not to return just the first result.</li>\\n<li><strong>_encoding</strong> – The encoding format.</li>\\n</ul>\\n</td>\\n</tr>\\n</tbody>\\n</table>\\n<p>If a sub-selector is specified (e.g. <code class=\"docutils literal notranslate\"><span class=\"pre\">//a/&#64;href</span></code>), a simple\\nlist of results is returned.</p>\\n<p>See W3School’s <a class=\"reference external\" href=\"https://www.w3schools.com/xml/xpath_examples.asp\">XPath Examples</a>\\nfor more details.</p>\\n<p>If <code class=\"docutils literal notranslate\"><span class=\"pre\">first</span></code> is <code class=\"docutils literal notranslate\"><span class=\"pre\">True</span></code>, only returns the first\\n<a class=\"reference internal\" href=\"#requests_html.Element\" title=\"requests_html.Element\"><code class=\"xref py py-class docutils literal notranslate\"><span class=\"pre\">Element</span></code></a> found.</p>\\n</dd></dl>\\n\\n</dd></dl>\\n\\n</div>\\n<div class=\"section\" id=\"utility-functions\">\\n<h2>Utility Functions<a class=\"headerlink\" href=\"#utility-functions\" title=\"Permalink to this headline\">¶</a></h2>\\n<dl class=\"function\">\\n<dt id=\"requests_html.user_agent\">\\n<code class=\"descclassname\">requests_html.</code><code class=\"descname\">user_agent</code><span class=\"sig-paren\">(</span><em>style=None</em><span class=\"sig-paren\">)</span> &#x2192; str<a class=\"reference internal\" href=\"_modules/requests_html.html#user_agent\"><span class=\"viewcode-link\">[source]</span></a><a class=\"headerlink\" href=\"#requests_html.user_agent\" title=\"Permalink to this definition\">¶</a></dt>\\n<dd><p>Returns an apparently legit user-agent, if not requested one of a specific\\nstyle. Defaults to a Chrome-style User-Agent.</p>\\n</dd></dl>\\n\\n</div>\\n<div class=\"section\" id=\"html-sessions\">\\n<h2>HTML Sessions<a class=\"headerlink\" href=\"#html-sessions\" title=\"Permalink to this headline\">¶</a></h2>\\n<p>These sessions are for making HTTP requests:</p>\\n<dl class=\"class\">\\n<dt id=\"requests_html.HTMLSession\">\\n<em class=\"property\">class </em><code class=\"descclassname\">requests_html.</code><code class=\"descname\">HTMLSession</code><span class=\"sig-paren\">(</span><em>mock_browser=True</em><span class=\"sig-paren\">)</span><a class=\"reference internal\" href=\"_modules/requests_html.html#HTMLSession\"><span class=\"viewcode-link\">[source]</span></a><a class=\"headerlink\" href=\"#requests_html.HTMLSession\" title=\"Permalink to this definition\">¶</a></dt>\\n<dd><p>A consumable session, for cookie persistence and connection pooling,\\namongst other things.</p>\\n<dl class=\"method\">\\n<dt id=\"requests_html.HTMLSession.close\">\\n<code class=\"descname\">close</code><span class=\"sig-paren\">(</span><span class=\"sig-paren\">)</span><a class=\"headerlink\" href=\"#requests_html.HTMLSession.close\" title=\"Permalink to this definition\">¶</a></dt>\\n<dd><p>Closes all adapters and as such the session</p>\\n</dd></dl>\\n\\n<dl class=\"method\">\\n<dt id=\"requests_html.HTMLSession.delete\">\\n<code class=\"descname\">delete</code><span class=\"sig-paren\">(</span><em>url</em>, <em>**kwargs</em><span class=\"sig-paren\">)</span><a class=\"headerlink\" href=\"#requests_html.HTMLSession.delete\" title=\"Permalink to this definition\">¶</a></dt>\\n<dd><p>Sends a DELETE request. Returns <code class=\"xref py py-class docutils literal notranslate\"><span class=\"pre\">Response</span></code> object.</p>\\n<table class=\"docutils field-list\" frame=\"void\" rules=\"none\">\\n<col class=\"field-name\" />\\n<col class=\"field-body\" />\\n<tbody valign=\"top\">\\n<tr class=\"field-odd field\"><th class=\"field-name\">Parameters:</th><td class=\"field-body\"><ul class=\"first simple\">\\n<li><strong>url</strong> – URL for the new <code class=\"xref py py-class docutils literal notranslate\"><span class=\"pre\">Request</span></code> object.</li>\\n<li><strong>**kwargs</strong> – Optional arguments that <code class=\"docutils literal notranslate\"><span class=\"pre\">request</span></code> takes.</li>\\n</ul>\\n</td>\\n</tr>\\n<tr class=\"field-even field\"><th class=\"field-name\">Return type:</th><td class=\"field-body\"><p class=\"first last\">requests.Response</p>\\n</td>\\n</tr>\\n</tbody>\\n</table>\\n</dd></dl>\\n\\n<dl class=\"method\">\\n<dt id=\"requests_html.HTMLSession.get\">\\n<code class=\"descname\">get</code><span class=\"sig-paren\">(</span><em>url</em>, <em>**kwargs</em><span class=\"sig-paren\">)</span><a class=\"headerlink\" href=\"#requests_html.HTMLSession.get\" title=\"Permalink to this definition\">¶</a></dt>\\n<dd><p>Sends a GET request. Returns <code class=\"xref py py-class docutils literal notranslate\"><span class=\"pre\">Response</span></code> object.</p>\\n<table class=\"docutils field-list\" frame=\"void\" rules=\"none\">\\n<col class=\"field-name\" />\\n<col class=\"field-body\" />\\n<tbody valign=\"top\">\\n<tr class=\"field-odd field\"><th class=\"field-name\">Parameters:</th><td class=\"field-body\"><ul class=\"first simple\">\\n<li><strong>url</strong> – URL for the new <code class=\"xref py py-class docutils literal notranslate\"><span class=\"pre\">Request</span></code> object.</li>\\n<li><strong>**kwargs</strong> – Optional arguments that <code class=\"docutils literal notranslate\"><span class=\"pre\">request</span></code> takes.</li>\\n</ul>\\n</td>\\n</tr>\\n<tr class=\"field-even field\"><th class=\"field-name\">Return type:</th><td class=\"field-body\"><p class=\"first last\">requests.Response</p>\\n</td>\\n</tr>\\n</tbody>\\n</table>\\n</dd></dl>\\n\\n<dl class=\"method\">\\n<dt id=\"requests_html.HTMLSession.get_adapter\">\\n<code class=\"descname\">get_adapter</code><span class=\"sig-paren\">(</span><em>url</em><span class=\"sig-paren\">)</span><a class=\"headerlink\" href=\"#requests_html.HTMLSession.get_adapter\" title=\"Permalink to this definition\">¶</a></dt>\\n<dd><p>Returns the appropriate connection adapter for the given URL.</p>\\n<table class=\"docutils field-list\" frame=\"void\" rules=\"none\">\\n<col class=\"field-name\" />\\n<col class=\"field-body\" />\\n<tbody valign=\"top\">\\n<tr class=\"field-odd field\"><th class=\"field-name\">Return type:</th><td class=\"field-body\">requests.adapters.BaseAdapter</td>\\n</tr>\\n</tbody>\\n</table>\\n</dd></dl>\\n\\n<dl class=\"method\">\\n<dt id=\"requests_html.HTMLSession.get_redirect_target\">\\n<code class=\"descname\">get_redirect_target</code><span class=\"sig-paren\">(</span><em>resp</em><span class=\"sig-paren\">)</span><a class=\"headerlink\" href=\"#requests_html.HTMLSession.get_redirect_target\" title=\"Permalink to this definition\">¶</a></dt>\\n<dd><p>Receives a Response. Returns a redirect URI or <code class=\"docutils literal notranslate\"><span class=\"pre\">None</span></code></p>\\n</dd></dl>\\n\\n<dl class=\"method\">\\n<dt id=\"requests_html.HTMLSession.head\">\\n<code class=\"descname\">head</code><span class=\"sig-paren\">(</span><em>url</em>, <em>**kwargs</em><span class=\"sig-paren\">)</span><a class=\"headerlink\" href=\"#requests_html.HTMLSession.head\" title=\"Permalink to this definition\">¶</a></dt>\\n<dd><p>Sends a HEAD request. Returns <code class=\"xref py py-class docutils literal notranslate\"><span class=\"pre\">Response</span></code> object.</p>\\n<table class=\"docutils field-list\" frame=\"void\" rules=\"none\">\\n<col class=\"field-name\" />\\n<col class=\"field-body\" />\\n<tbody valign=\"top\">\\n<tr class=\"field-odd field\"><th class=\"field-name\">Parameters:</th><td class=\"field-body\"><ul class=\"first simple\">\\n<li><strong>url</strong> – URL for the new <code class=\"xref py py-class docutils literal notranslate\"><span class=\"pre\">Request</span></code> object.</li>\\n<li><strong>**kwargs</strong> – Optional arguments that <code class=\"docutils literal notranslate\"><span class=\"pre\">request</span></code> takes.</li>\\n</ul>\\n</td>\\n</tr>\\n<tr class=\"field-even field\"><th class=\"field-name\">Return type:</th><td class=\"field-body\"><p class=\"first last\">requests.Response</p>\\n</td>\\n</tr>\\n</tbody>\\n</table>\\n</dd></dl>\\n\\n<dl class=\"method\">\\n<dt id=\"requests_html.HTMLSession.merge_environment_settings\">\\n<code class=\"descname\">merge_environment_settings</code><span class=\"sig-paren\">(</span><em>url</em>, <em>proxies</em>, <em>stream</em>, <em>verify</em>, <em>cert</em><span class=\"sig-paren\">)</span><a class=\"headerlink\" href=\"#requests_html.HTMLSession.merge_environment_settings\" title=\"Permalink to this definition\">¶</a></dt>\\n<dd><p>Check the environment and merge it with some settings.</p>\\n<table class=\"docutils field-list\" frame=\"void\" rules=\"none\">\\n<col class=\"field-name\" />\\n<col class=\"field-body\" />\\n<tbody valign=\"top\">\\n<tr class=\"field-odd field\"><th class=\"field-name\">Return type:</th><td class=\"field-body\"><a class=\"reference external\" href=\"https://docs.python.org/3/library/stdtypes.html#dict\" title=\"(in Python v3.6)\">dict</a></td>\\n</tr>\\n</tbody>\\n</table>\\n</dd></dl>\\n\\n<dl class=\"method\">\\n<dt id=\"requests_html.HTMLSession.mount\">\\n<code class=\"descname\">mount</code><span class=\"sig-paren\">(</span><em>prefix</em>, <em>adapter</em><span class=\"sig-paren\">)</span><a class=\"headerlink\" href=\"#requests_html.HTMLSession.mount\" title=\"Permalink to this definition\">¶</a></dt>\\n<dd><p>Registers a connection adapter to a prefix.</p>\\n<p>Adapters are sorted in descending order by prefix length.</p>\\n</dd></dl>\\n\\n<dl class=\"method\">\\n<dt id=\"requests_html.HTMLSession.options\">\\n<code class=\"descname\">options</code><span class=\"sig-paren\">(</span><em>url</em>, <em>**kwargs</em><span class=\"sig-paren\">)</span><a class=\"headerlink\" href=\"#requests_html.HTMLSession.options\" title=\"Permalink to this definition\">¶</a></dt>\\n<dd><p>Sends a OPTIONS request. Returns <code class=\"xref py py-class docutils literal notranslate\"><span class=\"pre\">Response</span></code> object.</p>\\n<table class=\"docutils field-list\" frame=\"void\" rules=\"none\">\\n<col class=\"field-name\" />\\n<col class=\"field-body\" />\\n<tbody valign=\"top\">\\n<tr class=\"field-odd field\"><th class=\"field-name\">Parameters:</th><td class=\"field-body\"><ul class=\"first simple\">\\n<li><strong>url</strong> – URL for the new <code class=\"xref py py-class docutils literal notranslate\"><span class=\"pre\">Request</span></code> object.</li>\\n<li><strong>**kwargs</strong> – Optional arguments that <code class=\"docutils literal notranslate\"><span class=\"pre\">request</span></code> takes.</li>\\n</ul>\\n</td>\\n</tr>\\n<tr class=\"field-even field\"><th class=\"field-name\">Return type:</th><td class=\"field-body\"><p class=\"first last\">requests.Response</p>\\n</td>\\n</tr>\\n</tbody>\\n</table>\\n</dd></dl>\\n\\n<dl class=\"method\">\\n<dt id=\"requests_html.HTMLSession.patch\">\\n<code class=\"descname\">patch</code><span class=\"sig-paren\">(</span><em>url</em>, <em>data=None</em>, <em>**kwargs</em><span class=\"sig-paren\">)</span><a class=\"headerlink\" href=\"#requests_html.HTMLSession.patch\" title=\"Permalink to this definition\">¶</a></dt>\\n<dd><p>Sends a PATCH request. Returns <code class=\"xref py py-class docutils literal notranslate\"><span class=\"pre\">Response</span></code> object.</p>\\n<table class=\"docutils field-list\" frame=\"void\" rules=\"none\">\\n<col class=\"field-name\" />\\n<col class=\"field-body\" />\\n<tbody valign=\"top\">\\n<tr class=\"field-odd field\"><th class=\"field-name\">Parameters:</th><td class=\"field-body\"><ul class=\"first simple\">\\n<li><strong>url</strong> – URL for the new <code class=\"xref py py-class docutils literal notranslate\"><span class=\"pre\">Request</span></code> object.</li>\\n<li><strong>data</strong> – (optional) Dictionary, bytes, or file-like object to send in the body of the <code class=\"xref py py-class docutils literal notranslate\"><span class=\"pre\">Request</span></code>.</li>\\n<li><strong>**kwargs</strong> – Optional arguments that <code class=\"docutils literal notranslate\"><span class=\"pre\">request</span></code> takes.</li>\\n</ul>\\n</td>\\n</tr>\\n<tr class=\"field-even field\"><th class=\"field-name\">Return type:</th><td class=\"field-body\"><p class=\"first last\">requests.Response</p>\\n</td>\\n</tr>\\n</tbody>\\n</table>\\n</dd></dl>\\n\\n<dl class=\"method\">\\n<dt id=\"requests_html.HTMLSession.post\">\\n<code class=\"descname\">post</code><span class=\"sig-paren\">(</span><em>url</em>, <em>data=None</em>, <em>json=None</em>, <em>**kwargs</em><span class=\"sig-paren\">)</span><a class=\"headerlink\" href=\"#requests_html.HTMLSession.post\" title=\"Permalink to this definition\">¶</a></dt>\\n<dd><p>Sends a POST request. Returns <code class=\"xref py py-class docutils literal notranslate\"><span class=\"pre\">Response</span></code> object.</p>\\n<table class=\"docutils field-list\" frame=\"void\" rules=\"none\">\\n<col class=\"field-name\" />\\n<col class=\"field-body\" />\\n<tbody valign=\"top\">\\n<tr class=\"field-odd field\"><th class=\"field-name\">Parameters:</th><td class=\"field-body\"><ul class=\"first simple\">\\n<li><strong>url</strong> – URL for the new <code class=\"xref py py-class docutils literal notranslate\"><span class=\"pre\">Request</span></code> object.</li>\\n<li><strong>data</strong> – (optional) Dictionary, bytes, or file-like object to send in the body of the <code class=\"xref py py-class docutils literal notranslate\"><span class=\"pre\">Request</span></code>.</li>\\n<li><strong>json</strong> – (optional) json to send in the body of the <code class=\"xref py py-class docutils literal notranslate\"><span class=\"pre\">Request</span></code>.</li>\\n<li><strong>**kwargs</strong> – Optional arguments that <code class=\"docutils literal notranslate\"><span class=\"pre\">request</span></code> takes.</li>\\n</ul>\\n</td>\\n</tr>\\n<tr class=\"field-even field\"><th class=\"field-name\">Return type:</th><td class=\"field-body\"><p class=\"first last\">requests.Response</p>\\n</td>\\n</tr>\\n</tbody>\\n</table>\\n</dd></dl>\\n\\n<dl class=\"method\">\\n<dt id=\"requests_html.HTMLSession.prepare_request\">\\n<code class=\"descname\">prepare_request</code><span class=\"sig-paren\">(</span><em>request</em><span class=\"sig-paren\">)</span><a class=\"headerlink\" href=\"#requests_html.HTMLSession.prepare_request\" title=\"Permalink to this definition\">¶</a></dt>\\n<dd><p>Constructs a <code class=\"xref py py-class docutils literal notranslate\"><span class=\"pre\">PreparedRequest</span></code> for\\ntransmission and returns it. The <code class=\"xref py py-class docutils literal notranslate\"><span class=\"pre\">PreparedRequest</span></code> has settings\\nmerged from the <code class=\"xref py py-class docutils literal notranslate\"><span class=\"pre\">Request</span></code> instance and those of the\\n<code class=\"xref py py-class docutils literal notranslate\"><span class=\"pre\">Session</span></code>.</p>\\n<table class=\"docutils field-list\" frame=\"void\" rules=\"none\">\\n<col class=\"field-name\" />\\n<col class=\"field-body\" />\\n<tbody valign=\"top\">\\n<tr class=\"field-odd field\"><th class=\"field-name\">Parameters:</th><td class=\"field-body\"><strong>request</strong> – <code class=\"xref py py-class docutils literal notranslate\"><span class=\"pre\">Request</span></code> instance to prepare with this\\nsession’s settings.</td>\\n</tr>\\n<tr class=\"field-even field\"><th class=\"field-name\">Return type:</th><td class=\"field-body\">requests.PreparedRequest</td>\\n</tr>\\n</tbody>\\n</table>\\n</dd></dl>\\n\\n<dl class=\"method\">\\n<dt id=\"requests_html.HTMLSession.put\">\\n<code class=\"descname\">put</code><span class=\"sig-paren\">(</span><em>url</em>, <em>data=None</em>, <em>**kwargs</em><span class=\"sig-paren\">)</span><a class=\"headerlink\" href=\"#requests_html.HTMLSession.put\" title=\"Permalink to this definition\">¶</a></dt>\\n<dd><p>Sends a PUT request. Returns <code class=\"xref py py-class docutils literal notranslate\"><span class=\"pre\">Response</span></code> object.</p>\\n<table class=\"docutils field-list\" frame=\"void\" rules=\"none\">\\n<col class=\"field-name\" />\\n<col class=\"field-body\" />\\n<tbody valign=\"top\">\\n<tr class=\"field-odd field\"><th class=\"field-name\">Parameters:</th><td class=\"field-body\"><ul class=\"first simple\">\\n<li><strong>url</strong> – URL for the new <code class=\"xref py py-class docutils literal notranslate\"><span class=\"pre\">Request</span></code> object.</li>\\n<li><strong>data</strong> – (optional) Dictionary, bytes, or file-like object to send in the body of the <code class=\"xref py py-class docutils literal notranslate\"><span class=\"pre\">Request</span></code>.</li>\\n<li><strong>**kwargs</strong> – Optional arguments that <code class=\"docutils literal notranslate\"><span class=\"pre\">request</span></code> takes.</li>\\n</ul>\\n</td>\\n</tr>\\n<tr class=\"field-even field\"><th class=\"field-name\">Return type:</th><td class=\"field-body\"><p class=\"first last\">requests.Response</p>\\n</td>\\n</tr>\\n</tbody>\\n</table>\\n</dd></dl>\\n\\n<dl class=\"method\">\\n<dt id=\"requests_html.HTMLSession.rebuild_auth\">\\n<code class=\"descname\">rebuild_auth</code><span class=\"sig-paren\">(</span><em>prepared_request</em>, <em>response</em><span class=\"sig-paren\">)</span><a class=\"headerlink\" href=\"#requests_html.HTMLSession.rebuild_auth\" title=\"Permalink to this definition\">¶</a></dt>\\n<dd><p>When being redirected we may want to strip authentication from the\\nrequest to avoid leaking credentials. This method intelligently removes\\nand reapplies authentication where possible to avoid credential loss.</p>\\n</dd></dl>\\n\\n<dl class=\"method\">\\n<dt id=\"requests_html.HTMLSession.rebuild_method\">\\n<code class=\"descname\">rebuild_method</code><span class=\"sig-paren\">(</span><em>prepared_request</em>, <em>response</em><span class=\"sig-paren\">)</span><a class=\"headerlink\" href=\"#requests_html.HTMLSession.rebuild_method\" title=\"Permalink to this definition\">¶</a></dt>\\n<dd><p>When being redirected we may want to change the method of the request\\nbased on certain specs or browser behavior.</p>\\n</dd></dl>\\n\\n<dl class=\"method\">\\n<dt id=\"requests_html.HTMLSession.rebuild_proxies\">\\n<code class=\"descname\">rebuild_proxies</code><span class=\"sig-paren\">(</span><em>prepared_request</em>, <em>proxies</em><span class=\"sig-paren\">)</span><a class=\"headerlink\" href=\"#requests_html.HTMLSession.rebuild_proxies\" title=\"Permalink to this definition\">¶</a></dt>\\n<dd><p>This method re-evaluates the proxy configuration by considering the\\nenvironment variables. If we are redirected to a URL covered by\\nNO_PROXY, we strip the proxy configuration. Otherwise, we set missing\\nproxy keys for this URL (in case they were stripped by a previous\\nredirect).</p>\\n<p>This method also replaces the Proxy-Authorization header where\\nnecessary.</p>\\n<table class=\"docutils field-list\" frame=\"void\" rules=\"none\">\\n<col class=\"field-name\" />\\n<col class=\"field-body\" />\\n<tbody valign=\"top\">\\n<tr class=\"field-odd field\"><th class=\"field-name\">Return type:</th><td class=\"field-body\"><a class=\"reference external\" href=\"https://docs.python.org/3/library/stdtypes.html#dict\" title=\"(in Python v3.6)\">dict</a></td>\\n</tr>\\n</tbody>\\n</table>\\n</dd></dl>\\n\\n<dl class=\"method\">\\n<dt id=\"requests_html.HTMLSession.request\">\\n<code class=\"descname\">request</code><span class=\"sig-paren\">(</span><em>*args</em>, <em>**kwargs</em><span class=\"sig-paren\">)</span> &#x2192; requests_html.HTMLResponse<a class=\"reference internal\" href=\"_modules/requests_html.html#HTMLSession.request\"><span class=\"viewcode-link\">[source]</span></a><a class=\"headerlink\" href=\"#requests_html.HTMLSession.request\" title=\"Permalink to this definition\">¶</a></dt>\\n<dd><p>Makes an HTTP Request, with mocked User–Agent headers.\\nReturns a class:<cite>HTTPResponse &lt;HTTPResponse&gt;</cite>.</p>\\n</dd></dl>\\n\\n<dl class=\"method\">\\n<dt id=\"requests_html.HTMLSession.resolve_redirects\">\\n<code class=\"descname\">resolve_redirects</code><span class=\"sig-paren\">(</span><em>resp</em>, <em>req</em>, <em>stream=False</em>, <em>timeout=None</em>, <em>verify=True</em>, <em>cert=None</em>, <em>proxies=None</em>, <em>yield_requests=False</em>, <em>**adapter_kwargs</em><span class=\"sig-paren\">)</span><a class=\"headerlink\" href=\"#requests_html.HTMLSession.resolve_redirects\" title=\"Permalink to this definition\">¶</a></dt>\\n<dd><p>Receives a Response. Returns a generator of Responses or Requests.</p>\\n</dd></dl>\\n\\n<dl class=\"method\">\\n<dt id=\"requests_html.HTMLSession.send\">\\n<code class=\"descname\">send</code><span class=\"sig-paren\">(</span><em>request</em>, <em>**kwargs</em><span class=\"sig-paren\">)</span><a class=\"headerlink\" href=\"#requests_html.HTMLSession.send\" title=\"Permalink to this definition\">¶</a></dt>\\n<dd><p>Send a given PreparedRequest.</p>\\n<table class=\"docutils field-list\" frame=\"void\" rules=\"none\">\\n<col class=\"field-name\" />\\n<col class=\"field-body\" />\\n<tbody valign=\"top\">\\n<tr class=\"field-odd field\"><th class=\"field-name\">Return type:</th><td class=\"field-body\">requests.Response</td>\\n</tr>\\n</tbody>\\n</table>\\n</dd></dl>\\n\\n</dd></dl>\\n\\n</div>\\n</div>\\n<div class=\"section\" id=\"indices-and-tables\">\\n<h1>Indices and tables<a class=\"headerlink\" href=\"#indices-and-tables\" title=\"Permalink to this headline\">¶</a></h1>\\n<ul class=\"simple\">\\n<li><a class=\"reference internal\" href=\"genindex.html\"><span class=\"std std-ref\">Index</span></a></li>\\n<li><a class=\"reference internal\" href=\"py-modindex.html\"><span class=\"std std-ref\">Module Index</span></a></li>\\n<li><a class=\"reference internal\" href=\"search.html\"><span class=\"std std-ref\">Search Page</span></a></li>\\n</ul>\\n</div>\\n\\n\\n          </div>\\n        </div>\\n      </div>\\n      <div class=\"sphinxsidebar\" role=\"navigation\" aria-label=\"main navigation\">\\n        <div class=\"sphinxsidebarwrapper\"><p class=\"logo\">\\n  <a href=\"#\">\\n    <img class=\"logo\" src=\"_static/requests-html-logo.png\" title=\"https://kennethreitz.org/tattoos\"/>\\n  </a>\\n</p>\\n\\n<p>\\n  <iframe src=\"https://ghbtns.com/github-btn.html?user=kennethreitz&repo=requests-html&type=watch&count=true&size=large\"\\n    allowtransparency=\"true\" frameborder=\"0\" scrolling=\"0\" width=\"200px\" height=\"35px\"></iframe>\\n</p>\\n\\n<p>\\n  <strong>Requests-HTML</strong> intends to make parsing HTML (e.g. scraping the web) as\\nsimple and intuitive as possible.\\n</p>\\n\\n<h3>Stay Informed</h3>\\n<p>Receive updates on new releases and upcoming projects.</p>\\n\\n<p><iframe src=\"https://ghbtns.com/github-btn.html?user=kennethreitz&type=follow&count=false\"\\n  allowtransparency=\"true\" frameborder=\"0\" scrolling=\"0\" width=\"200\" height=\"20\"></iframe></p>\\n\\n<p><a href=\"https://twitter.com/kennethreitz\" class=\"twitter-follow-button\" data-show-count=\"false\">Follow @kennethreitz</a> <script>!function(d,s,id){var js,fjs=d.getElementsByTagName(s)[0],p=/^http:/.test(d.location)?\\'http\\':\\'https\\';if(!d.getElementById(id)){js=d.createElement(s);js.id=id;js.src=p+\\'://platform.twitter.com/widgets.js\\';fjs.parentNode.insertBefore(js,fjs);}}(document, \\'script\\', \\'twitter-wjs\\');</script></p>\\n<p><a href=\"https://saythanks.io/to/kennethreitz\">Say Thanks!</a></p>\\n<p><a href=\"http://tinyletter.com/kennethreitz\">Join Mailing List</a>.</p>\\n\\n<h3>Other Projects</h3>\\n\\n<p>More <a href=\"http://kennethreitz.org/\">Kenneth Reitz</a> projects:</p>\\n<ul>\\n    <li><a href=\"https://python-requests.org/\">python-requests.org</a></li>\\n    <li><a href=\"http://howtopython.org/\">howtopython.org</a></li>\\n    <li><a href=\"http://pipenv.org/\">pipenv</a></li>\\n    <li><a href=\"http://pep8.org/\">pep8.org</a></li>\\n    <li><a href=\"http://httpbin.org/\">httpbin.org</a></li>\\n    <li><a href=\"http://python-guide.org\">The Python Guide</a></li>\\n    <li><a href=\"https://github.com/kennethreitz/maya\">Maya: Datetimes for Humans</a></li>\\n    <li><a href=\"https://github.com/kennethreitz/records\">Records: SQL for Humans</a></li>\\n    <li><a href=\"http://www.git-legit.org\">Legit: Git for Humans</a></li>\\n    <li><a href=\"http://docs.python-tablib.org/en/latest/\">Tablib: Tabular Datasets</a></li>\\n</ul>\\n<div id=\"searchbox\" style=\"display: none\" role=\"search\">\\n  <h3>Quick search</h3>\\n    <div class=\"searchformwrapper\">\\n    <form class=\"search\" action=\"search.html\" method=\"get\">\\n      <input type=\"text\" name=\"q\" />\\n      <input type=\"submit\" value=\"Go\" />\\n      <input type=\"hidden\" name=\"check_keywords\" value=\"yes\" />\\n      <input type=\"hidden\" name=\"area\" value=\"default\" />\\n    </form>\\n    </div>\\n</div>\\n<script type=\"text/javascript\">$(\\'#searchbox\\').show(0);</script><!-- Alabaster (krTheme++) Hacks -->\\n\\n\\n<!-- CSS Adjustments (I\\'m very picky.) -->\\n<style type=\"text/css\">\\n\\n  /* Rezzy requires precise alignment. */\\n  img.logo {margin-left: -20px!important;}\\n\\n  /* \"Quick Search\" should be capitalized. */\\n  div#searchbox h3 {text-transform: capitalize;}\\n\\n  /* Make the document a little wider, less code is cut-off. */\\n  div.document {width: 1008px;}\\n\\n  /* Much-improved spacing around code blocks. */\\n  div.highlight pre {padding: 11px 14px;}\\n\\n  /* Remain Responsive! */\\n  @media screen and (max-width: 1008px) {\\n    div.sphinxsidebar {display: none;}\\n    div.document {width: 100%!important;}\\n\\n    /* Have code blocks escape the document right-margin. */\\n    div.highlight pre {margin-right: -30px;}\\n  }\\n\\n</style>\\n\\n\\n<!-- Analytics tracking for Kenneth. -->\\n<script type=\"text/javascript\">\\n  var _gauges = _gauges || [];\\n  (function() {\\n    var t   = document.createElement(\\'script\\');\\n    t.type  = \\'text/javascript\\';\\n    t.async = true;\\n    t.id    = \\'gauges-tracker\\';\\n    t.setAttribute(\\'data-site-id\\', \\'5a956183ba4ae36e18000033\\');\\n    t.setAttribute(\\'data-track-path\\', \\'https://track.gaug.es/track.gif\\');\\n    t.src = \\'https://d2fuc4clr7gvcn.cloudfront.net/track.js\\';\\n    var s = document.getElementsByTagName(\\'script\\')[0];\\n    s.parentNode.insertBefore(t, s);\\n  })();\\n</script>\\n\\n\\n<!-- That was not a hack. That was art. -->\\n        </div>\\n      </div>\\n      <div class=\"clearer\"></div>\\n    </div>\\n    <div class=\"footer\">\\n      &copy;MMXVIII. A <a href=\"http://kennethreitz.com/pages/open-projects.html\">Kenneth Reitz</a> Project.\\n      \\n    </div>\\n\\n    \\n    <a href=\"https://github.com/kennethreitz/requests-html\" class=\"github\">\\n        <img style=\"position: absolute; top: 0; right: 0; border: 0;\" src=\"https://s3.amazonaws.com/github/ribbons/forkme_right_darkblue_121621.png\" alt=\"Fork me on GitHub\"  class=\"github\"/>\\n    </a>\\n    \\n\\n    \\n  </body>\\n</html>'"
      ]
     },
     "execution_count": 5,
     "metadata": {},
     "output_type": "execute_result"
    }
   ],
   "source": [
    "page.text"
   ]
  },
  {
   "cell_type": "markdown",
   "metadata": {},
   "source": [
    "Тепер покажемо приклад використання бібліотеки, виведемо ссилки, які є на сторінці."
   ]
  },
  {
   "cell_type": "code",
   "execution_count": 7,
   "metadata": {
    "scrolled": true
   },
   "outputs": [
    {
     "data": {
      "text/plain": [
       "{'http://docs.python-tablib.org/en/latest/',\n",
       " 'http://howtopython.org/',\n",
       " 'http://html.python-requests.org/_modules/requests_html.html#Element',\n",
       " 'http://html.python-requests.org/_modules/requests_html.html#HTML',\n",
       " 'http://html.python-requests.org/_modules/requests_html.html#HTML.render',\n",
       " 'http://html.python-requests.org/_modules/requests_html.html#HTMLSession',\n",
       " 'http://html.python-requests.org/_modules/requests_html.html#HTMLSession.request',\n",
       " 'http://html.python-requests.org/_modules/requests_html.html#user_agent',\n",
       " 'http://html.python-requests.org/genindex.html',\n",
       " 'http://html.python-requests.org/py-modindex.html',\n",
       " 'http://html.python-requests.org/search.html',\n",
       " 'http://httpbin.org/',\n",
       " 'http://kennethreitz.com/pages/open-projects.html',\n",
       " 'http://kennethreitz.org/',\n",
       " 'http://lxml.de',\n",
       " 'http://pep8.org/',\n",
       " 'http://pipenv.org/',\n",
       " 'http://python-guide.org',\n",
       " 'http://tinyletter.com/kennethreitz',\n",
       " 'http://www.diveintopython3.net/strings.html',\n",
       " 'http://www.git-legit.org',\n",
       " 'https://developer.mozilla.org/en-US/docs/Web/HTML/Attributes',\n",
       " 'https://docs.python-requests.org/',\n",
       " 'https://docs.python.org/3/library/stdtypes.html#dict',\n",
       " 'https://github.com/kennethreitz/maya',\n",
       " 'https://github.com/kennethreitz/records',\n",
       " 'https://github.com/kennethreitz/requests-html',\n",
       " 'https://msdn.microsoft.com/en-us/library/ms256086(v=vs.110).aspx',\n",
       " 'https://python-requests.org/',\n",
       " 'https://python.org/',\n",
       " 'https://pythonhosted.org/pyquery/',\n",
       " 'https://saythanks.io/to/kennethreitz',\n",
       " 'https://travis-ci.org/kennethreitz/requests-html',\n",
       " 'https://twitter.com/kennethreitz',\n",
       " 'https://www.navegabem.com/absolute-or-relative-links.html',\n",
       " 'https://www.w3schools.com/cssref/css_selectors.asp',\n",
       " 'https://www.w3schools.com/tags/ref_attributes.asp',\n",
       " 'https://www.w3schools.com/tags/tag_base.asp',\n",
       " 'https://www.w3schools.com/xml/xpath_examples.asp'}"
      ]
     },
     "execution_count": 7,
     "metadata": {},
     "output_type": "execute_result"
    }
   ],
   "source": [
    "page.html.absolute_links"
   ]
  },
  {
   "cell_type": "code",
   "execution_count": null,
   "metadata": {},
   "outputs": [],
   "source": [
    "Тепер розглянемо приклади використання бібліотеки BeautifulSoup.\n",
    "Для початку створимо приклад html сторінки."
   ]
  },
  {
   "cell_type": "code",
   "execution_count": 11,
   "metadata": {},
   "outputs": [],
   "source": [
    "html_doc = \"\"\"\n",
    "<html><head><title>The Dormouse's story</title></head>\n",
    "<body>\n",
    "<p class=\"title\"><b>The Dormouse's story</b></p>\n",
    "\n",
    "<p class=\"story\">Once upon a time there were three little sisters; and their names were\n",
    "<a href=\"http://example.com/elsie\" class=\"sister\" id=\"link1\">Elsie</a>,\n",
    "<a href=\"http://example.com/lacie\" class=\"sister\" id=\"link2\">Lacie</a> and\n",
    "<a href=\"http://example.com/tillie\" class=\"sister\" id=\"link3\">Tillie</a>;\n",
    "and they lived at the bottom of a well.</p>\n",
    "\n",
    "<p class=\"story\">...</p>\n",
    "\"\"\""
   ]
  },
  {
   "cell_type": "markdown",
   "metadata": {},
   "source": [
    "Перетворимо в об'єкт класу BeautifulSoup."
   ]
  },
  {
   "cell_type": "code",
   "execution_count": 9,
   "metadata": {},
   "outputs": [],
   "source": [
    "soup = BeautifulSoup(html_doc, 'html.parser')"
   ]
  },
  {
   "cell_type": "code",
   "execution_count": null,
   "metadata": {},
   "outputs": [],
   "source": [
    "Покажемо цей код, як вкладену структуру даних."
   ]
  },
  {
   "cell_type": "code",
   "execution_count": 10,
   "metadata": {},
   "outputs": [
    {
     "name": "stdout",
     "output_type": "stream",
     "text": [
      "<html>\n",
      " <head>\n",
      "  <title>\n",
      "   The Dormouse's story\n",
      "  </title>\n",
      " </head>\n",
      " <body>\n",
      "  <p class=\"title\">\n",
      "   <b>\n",
      "    The Dormouse's story\n",
      "   </b>\n",
      "  </p>\n",
      "  <p class=\"story\">\n",
      "   Once upon a time there were three little sisters; and their names were\n",
      "   <a class=\"sister\" href=\"http://example.com/elsie\" id=\"link1\">\n",
      "    Elsie\n",
      "   </a>\n",
      "   ,\n",
      "   <a class=\"sister\" href=\"http://example.com/lacie\" id=\"link2\">\n",
      "    Lacie\n",
      "   </a>\n",
      "   and\n",
      "   <a class=\"sister\" href=\"http://example.com/tillie\" id=\"link3\">\n",
      "    Tillie\n",
      "   </a>\n",
      "   ;\n",
      "and they lived at the bottom of a well.\n",
      "  </p>\n",
      "  <p class=\"story\">\n",
      "   ...\n",
      "  </p>\n",
      " </body>\n",
      "</html>\n"
     ]
    }
   ],
   "source": [
    "print(soup.prettify())"
   ]
  },
  {
   "cell_type": "markdown",
   "metadata": {},
   "source": [
    "Бібліотека BeautifulSoup дозволяє легко орієнтуватись в коді сторінки, ось приклади навігації по файлу."
   ]
  },
  {
   "cell_type": "code",
   "execution_count": 14,
   "metadata": {},
   "outputs": [
    {
     "data": {
      "text/plain": [
       "<title>The Dormouse's story</title>"
      ]
     },
     "execution_count": 14,
     "metadata": {},
     "output_type": "execute_result"
    }
   ],
   "source": [
    "soup.title"
   ]
  },
  {
   "cell_type": "code",
   "execution_count": 15,
   "metadata": {},
   "outputs": [
    {
     "data": {
      "text/plain": [
       "'title'"
      ]
     },
     "execution_count": 15,
     "metadata": {},
     "output_type": "execute_result"
    }
   ],
   "source": [
    "soup.title.name"
   ]
  },
  {
   "cell_type": "markdown",
   "metadata": {},
   "source": [
    "Це лиш деякі приклади, більше можна знайти в документації до бібліотеки BeautifulSoup"
   ]
  }
 ],
 "metadata": {
  "kernelspec": {
   "display_name": "Python 3",
   "language": "python",
   "name": "python3"
  },
  "language_info": {
   "codemirror_mode": {
    "name": "ipython",
    "version": 3
   },
   "file_extension": ".py",
   "mimetype": "text/x-python",
   "name": "python",
   "nbconvert_exporter": "python",
   "pygments_lexer": "ipython3",
   "version": "3.6.3"
  }
 },
 "nbformat": 4,
 "nbformat_minor": 2
}
