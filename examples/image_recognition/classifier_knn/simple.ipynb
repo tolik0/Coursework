{
 "cells": [
  {
   "cell_type": "code",
   "execution_count": 1,
   "metadata": {},
   "outputs": [],
   "source": [
    "# import the necessary packages\n",
    "from sklearn.model_selection import train_test_split\n",
    "from sklearn.ensemble import RandomForestClassifier\n",
    "from sklearn.neighbors import KNeighborsClassifier\n",
    "from sklearn import datasets\n",
    "from loader import load_data"
   ]
  },
  {
   "cell_type": "code",
   "execution_count": 2,
   "metadata": {},
   "outputs": [
    {
     "name": "stdout",
     "output_type": "stream",
     "text": [
      "Product Apple Braeburn [1/60] loaded...\n",
      "Product Apple Golden 1 [2/60] loaded...\n",
      "Product Apple Golden 2 [3/60] loaded...\n",
      "Product Apple Golden 3 [4/60] loaded...\n",
      "Product Apple Granny Smith [5/60] loaded...\n",
      "Product Apple Red 1 [6/60] loaded...\n",
      "Product Apple Red 2 [7/60] loaded...\n",
      "Product Apple Red 3 [8/60] loaded...\n",
      "Product Apple Red Delicious [9/60] loaded...\n",
      "Product Apple Red Yellow [10/60] loaded...\n",
      "Product Apricot [11/60] loaded...\n",
      "Product Avocado [12/60] loaded...\n",
      "Product Avocado ripe [13/60] loaded...\n",
      "Product Banana [14/60] loaded...\n",
      "Product Banana Red [15/60] loaded...\n",
      "Product Cactus fruit [16/60] loaded...\n",
      "Product Carambula [17/60] loaded...\n",
      "Product Cherry [18/60] loaded...\n",
      "Product Clementine [19/60] loaded...\n",
      "Product Cocos [20/60] loaded...\n",
      "Product Dates [21/60] loaded...\n",
      "Product Granadilla [22/60] loaded...\n",
      "Product Grape Pink [23/60] loaded...\n",
      "Product Grape White [24/60] loaded...\n",
      "Product Grape White 2 [25/60] loaded...\n",
      "Product Grapefruit Pink [26/60] loaded...\n",
      "Product Grapefruit White [27/60] loaded...\n",
      "Product Guava [28/60] loaded...\n",
      "Product Huckleberry [29/60] loaded...\n",
      "Product Kaki [30/60] loaded...\n",
      "Product Kiwi [31/60] loaded...\n",
      "Product Kumquats [32/60] loaded...\n",
      "Product Lemon [33/60] loaded...\n",
      "Product Lemon Meyer [34/60] loaded...\n",
      "Product Limes [35/60] loaded...\n",
      "Product Litchi [36/60] loaded...\n",
      "Product Mandarine [37/60] loaded...\n",
      "Product Mango [38/60] loaded...\n",
      "Product Maracuja [39/60] loaded...\n",
      "Product Nectarine [40/60] loaded...\n",
      "Product Orange [41/60] loaded...\n",
      "Product Papaya [42/60] loaded...\n",
      "Product Passion Fruit [43/60] loaded...\n",
      "Product Peach [44/60] loaded...\n",
      "Product Peach Flat [45/60] loaded...\n",
      "Product Pear [46/60] loaded...\n",
      "Product Pear Abate [47/60] loaded...\n",
      "Product Pear Monster [48/60] loaded...\n",
      "Product Pear Williams [49/60] loaded...\n",
      "Product Pepino [50/60] loaded...\n",
      "Product Pineapple [51/60] loaded...\n",
      "Product Pitahaya Red [52/60] loaded...\n",
      "Product Plum [53/60] loaded...\n",
      "Product Pomegranate [54/60] loaded...\n",
      "Product Quince [55/60] loaded...\n",
      "Product Raspberry [56/60] loaded...\n",
      "Product Salak [57/60] loaded...\n",
      "Product Strawberry [58/60] loaded...\n",
      "Product Tamarillo [59/60] loaded...\n",
      "Product Tangelo [60/60] loaded...\n",
      "Product Apple Braeburn [1/60] loaded...\n",
      "Product Apple Golden 1 [2/60] loaded...\n",
      "Product Apple Golden 2 [3/60] loaded...\n",
      "Product Apple Golden 3 [4/60] loaded...\n",
      "Product Apple Granny Smith [5/60] loaded...\n",
      "Product Apple Red 1 [6/60] loaded...\n",
      "Product Apple Red 2 [7/60] loaded...\n",
      "Product Apple Red 3 [8/60] loaded...\n",
      "Product Apple Red Delicious [9/60] loaded...\n",
      "Product Apple Red Yellow [10/60] loaded...\n",
      "Product Apricot [11/60] loaded...\n",
      "Product Avocado [12/60] loaded...\n",
      "Product Avocado ripe [13/60] loaded...\n",
      "Product Banana [14/60] loaded...\n",
      "Product Banana Red [15/60] loaded...\n",
      "Product Cactus fruit [16/60] loaded...\n",
      "Product Carambula [17/60] loaded...\n",
      "Product Cherry [18/60] loaded...\n",
      "Product Clementine [19/60] loaded...\n",
      "Product Cocos [20/60] loaded...\n",
      "Product Dates [21/60] loaded...\n",
      "Product Granadilla [22/60] loaded...\n",
      "Product Grape Pink [23/60] loaded...\n",
      "Product Grape White [24/60] loaded...\n",
      "Product Grape White 2 [25/60] loaded...\n",
      "Product Grapefruit Pink [26/60] loaded...\n",
      "Product Grapefruit White [27/60] loaded...\n",
      "Product Guava [28/60] loaded...\n",
      "Product Huckleberry [29/60] loaded...\n",
      "Product Kaki [30/60] loaded...\n",
      "Product Kiwi [31/60] loaded...\n",
      "Product Kumquats [32/60] loaded...\n",
      "Product Lemon [33/60] loaded...\n",
      "Product Lemon Meyer [34/60] loaded...\n",
      "Product Limes [35/60] loaded...\n",
      "Product Litchi [36/60] loaded...\n",
      "Product Mandarine [37/60] loaded...\n",
      "Product Mango [38/60] loaded...\n",
      "Product Maracuja [39/60] loaded...\n",
      "Product Nectarine [40/60] loaded...\n",
      "Product Orange [41/60] loaded...\n",
      "Product Papaya [42/60] loaded...\n",
      "Product Passion Fruit [43/60] loaded...\n",
      "Product Peach [44/60] loaded...\n",
      "Product Peach Flat [45/60] loaded...\n",
      "Product Pear [46/60] loaded...\n",
      "Product Pear Abate [47/60] loaded...\n",
      "Product Pear Monster [48/60] loaded...\n",
      "Product Pear Williams [49/60] loaded...\n",
      "Product Pepino [50/60] loaded...\n",
      "Product Pineapple [51/60] loaded...\n",
      "Product Pitahaya Red [52/60] loaded...\n",
      "Product Plum [53/60] loaded...\n",
      "Product Pomegranate [54/60] loaded...\n",
      "Product Quince [55/60] loaded...\n",
      "Product Raspberry [56/60] loaded...\n",
      "Product Salak [57/60] loaded...\n",
      "Product Strawberry [58/60] loaded...\n",
      "Product Tamarillo [59/60] loaded...\n",
      "Product Tangelo [60/60] loaded...\n"
     ]
    }
   ],
   "source": [
    "# load data\n",
    "X_train, y_train, labels = load_data(\"../fruits-360/Training\")\n",
    "X_test, y_test, labels = load_data(\"../fruits-360/Validation\")"
   ]
  },
  {
   "cell_type": "code",
   "execution_count": 3,
   "metadata": {},
   "outputs": [
    {
     "name": "stdout",
     "output_type": "stream",
     "text": [
      "Score is 0.9425204176573969\n"
     ]
    }
   ],
   "source": [
    "model = KNeighborsClassifier(n_neighbors=1)\n",
    "model.fit(X_train, y_train)\n",
    "score = model.score(X_test, y_test)\n",
    "print(\"Score is {}\".format(score))"
   ]
  },
  {
   "cell_type": "code",
   "execution_count": 4,
   "metadata": {},
   "outputs": [
    {
     "name": "stdout",
     "output_type": "stream",
     "text": [
      "Score is 0.9337330714359557\n"
     ]
    }
   ],
   "source": [
    "model = RandomForestClassifier()\n",
    "model.fit(X_train, y_train)\n",
    "score = model.score(X_test, y_test)\n",
    "print(\"Score is {}\".format(score))"
   ]
  },
  {
   "cell_type": "code",
   "execution_count": null,
   "metadata": {},
   "outputs": [],
   "source": []
  }
 ],
 "metadata": {
  "kernelspec": {
   "display_name": "Python 3",
   "language": "python",
   "name": "python3"
  },
  "language_info": {
   "codemirror_mode": {
    "name": "ipython",
    "version": 3
   },
   "file_extension": ".py",
   "mimetype": "text/x-python",
   "name": "python",
   "nbconvert_exporter": "python",
   "pygments_lexer": "ipython3",
   "version": "3.6.3"
  }
 },
 "nbformat": 4,
 "nbformat_minor": 2
}
