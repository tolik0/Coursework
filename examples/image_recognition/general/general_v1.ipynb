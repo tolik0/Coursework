{
 "cells": [
  {
   "cell_type": "code",
   "execution_count": 1,
   "metadata": {},
   "outputs": [],
   "source": [
    "import torch\n",
    "from torchvision import transforms\n",
    "from torch.autograd import Variable\n",
    "from PIL import Image\n",
    "import cv2\n",
    "import numpy\n",
    "\n",
    "import sys\n",
    "sys.path.append('../object_detection')\n",
    "from image_detector import find_objects"
   ]
  },
  {
   "cell_type": "code",
   "execution_count": 2,
   "metadata": {},
   "outputs": [],
   "source": [
    "names = ['Apple Braeburn',\n",
    " 'Apple Golden 1',\n",
    " 'Apple Golden 2',\n",
    " 'Apple Golden 3',\n",
    " 'Apple Granny Smith',\n",
    " 'Apple Red 1',\n",
    " 'Apple Red 2',\n",
    " 'Apple Red 3',\n",
    " 'Apple Red Delicious',\n",
    " 'Apple Red Yellow',\n",
    " 'Apricot',\n",
    " 'Avocado',\n",
    " 'Avocado ripe',\n",
    " 'Banana',\n",
    " 'Banana Red',\n",
    " 'Cactus fruit',\n",
    " 'Carambula',\n",
    " 'Cherry',\n",
    " 'Clementine',\n",
    " 'Cocos',\n",
    " 'Dates',\n",
    " 'Garbage',\n",
    " 'Granadilla',\n",
    " 'Grape Pink',\n",
    " 'Grape White',\n",
    " 'Grape White 2',\n",
    " 'Grapefruit Pink',\n",
    " 'Grapefruit White',\n",
    " 'Guava',\n",
    " 'Huckleberry',\n",
    " 'Kaki',\n",
    " 'Kiwi',\n",
    " 'Kumquats',\n",
    " 'Lemon',\n",
    " 'Lemon Meyer',\n",
    " 'Limes',\n",
    " 'Litchi',\n",
    " 'Mandarine',\n",
    " 'Mango',\n",
    " 'Maracuja',\n",
    " 'Nectarine',\n",
    " 'Orange',\n",
    " 'Papaya',\n",
    " 'Passion Fruit',\n",
    " 'Peach',\n",
    " 'Peach Flat',\n",
    " 'Pear',\n",
    " 'Pear Abate',\n",
    " 'Pear Monster',\n",
    " 'Pear Williams',\n",
    " 'Pepino',\n",
    " 'Pineapple',\n",
    " 'Pitahaya Red',\n",
    " 'Plum',\n",
    " 'Pomegranate',\n",
    " 'Quince',\n",
    " 'Raspberry',\n",
    " 'Salak',\n",
    " 'Strawberry',\n",
    " 'Tamarillo',\n",
    " 'Tangelo']"
   ]
  },
  {
   "cell_type": "code",
   "execution_count": 3,
   "metadata": {},
   "outputs": [],
   "source": [
    "images = find_objects(\"../test_images/ban_app.jpg\")\n",
    "\n",
    "# for i in range(len(images)):\n",
    "#     cv2.imshow(f\"{i}\", images[i])\n",
    "# cv2.waitKey(0)"
   ]
  },
  {
   "cell_type": "code",
   "execution_count": 4,
   "metadata": {},
   "outputs": [],
   "source": [
    "model_path = \"model_finetuning_v6.pth\"\n",
    "# model_path = \"mymodel_convnet_v2.pth\"\n",
    "model = torch.load(model_path)"
   ]
  },
  {
   "cell_type": "code",
   "execution_count": 5,
   "metadata": {},
   "outputs": [],
   "source": [
    "loader = transforms.Compose([\n",
    "    transforms.Resize((224,224)),\n",
    "    transforms.ToTensor(),\n",
    "#     transforms.Normalize([0.485, 0.456, 0.406], [0.229, 0.224, 0.225])\n",
    "])\n",
    "\n",
    "def image_loader(image):\n",
    "    \"\"\"load image, returns cuda tensor\"\"\"\n",
    "    \n",
    "    image = loader(image).float()\n",
    "    image = Variable(image, requires_grad=True)\n",
    "    image = image.unsqueeze(0)  #this is for VGG, may not be needed for ResNet\n",
    "    return image.cuda()  #assumes that you're using GPU"
   ]
  },
  {
   "cell_type": "code",
   "execution_count": null,
   "metadata": {},
   "outputs": [
    {
     "name": "stdout",
     "output_type": "stream",
     "text": [
      "Garbage: 10.34533977508545\n",
      "Banana: 9.191106796264648\n",
      "Avocado: 8.230672836303711\n",
      "Apple Golden 3: 5.977344036102295\n",
      "Grapefruit White: 4.828106880187988\n",
      "\n",
      "Quince: 8.520689010620117\n",
      "Apple Golden 2: 8.395662307739258\n",
      "Carambula: 7.4689459800720215\n",
      "Apple Red 1: 7.126486778259277\n",
      "Apple Granny Smith: 5.842892169952393\n",
      "\n"
     ]
    }
   ],
   "source": [
    "for i in images:\n",
    "    image = image_loader(Image.fromarray(i))\n",
    "    outputs = model(image)[0]\n",
    "    outputs = (outputs.data).cpu().numpy()\n",
    "    ind = outputs.argsort()[-5:][::-1]\n",
    "    for i in ind:\n",
    "        print(\"{}: {}\".format(names[i], outputs[i]))\n",
    "    print()"
   ]
  },
  {
   "cell_type": "code",
   "execution_count": null,
   "metadata": {},
   "outputs": [],
   "source": [
    "for i in range(len(images)):\n",
    "    cv2.imshow(f\"{i}\", cv2.cvtColor(images[i], cv2.COLOR_RGB2BGR))\n",
    "cv2.waitKey(0)"
   ]
  },
  {
   "cell_type": "code",
   "execution_count": null,
   "metadata": {},
   "outputs": [],
   "source": []
  }
 ],
 "metadata": {
  "kernelspec": {
   "display_name": "Python 3",
   "language": "python",
   "name": "python3"
  },
  "language_info": {
   "codemirror_mode": {
    "name": "ipython",
    "version": 3
   },
   "file_extension": ".py",
   "mimetype": "text/x-python",
   "name": "python",
   "nbconvert_exporter": "python",
   "pygments_lexer": "ipython3",
   "version": "3.6.4"
  }
 },
 "nbformat": 4,
 "nbformat_minor": 2
}
