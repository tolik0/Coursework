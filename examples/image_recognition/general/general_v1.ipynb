{
 "cells": [
  {
   "cell_type": "code",
   "execution_count": 1,
   "metadata": {},
   "outputs": [],
   "source": [
    "import torch\n",
    "from torchvision import transforms\n",
    "from torch.autograd import Variable\n",
    "from PIL import Image\n",
    "import cv2\n",
    "import numpy\n",
    "\n",
    "import sys\n",
    "sys.path.append('../object_detection')\n",
    "from image_detector import find_objects"
   ]
  },
  {
   "cell_type": "code",
   "execution_count": 2,
   "metadata": {},
   "outputs": [],
   "source": [
    "names1 = ['Apple Braeburn',\n",
    " 'Apple Golden 1',\n",
    " 'Apple Golden 2',\n",
    " 'Apple Golden 3',\n",
    " 'Apple Granny Smith',\n",
    " 'Apple Red 1',\n",
    " 'Apple Red 2',\n",
    " 'Apple Red 3',\n",
    " 'Apple Red Delicious',\n",
    " 'Apple Red Yellow',\n",
    " 'Apricot',\n",
    " 'Avocado',\n",
    " 'Avocado ripe',\n",
    " 'Banana',\n",
    " 'Banana Red',\n",
    " 'Cactus fruit',\n",
    " 'Carambula',\n",
    " 'Cherry',\n",
    " 'Clementine',\n",
    " 'Cocos',\n",
    " 'Dates',\n",
    " 'Garbage',\n",
    " 'Granadilla',\n",
    " 'Grape Pink',\n",
    " 'Grape White',\n",
    " 'Grape White 2',\n",
    " 'Grapefruit Pink',\n",
    " 'Grapefruit White',\n",
    " 'Guava',\n",
    " 'Huckleberry',\n",
    " 'Kaki',\n",
    " 'Kiwi',\n",
    " 'Kumquats',\n",
    " 'Lemon',\n",
    " 'Lemon Meyer',\n",
    " 'Limes',\n",
    " 'Litchi',\n",
    " 'Mandarine',\n",
    " 'Mango',\n",
    " 'Maracuja',\n",
    " 'Nectarine',\n",
    " 'Orange',\n",
    " 'Papaya',\n",
    " 'Passion Fruit',\n",
    " 'Peach',\n",
    " 'Peach Flat',\n",
    " 'Pear',\n",
    " 'Pear Abate',\n",
    " 'Pear Monster',\n",
    " 'Pear Williams',\n",
    " 'Pepino',\n",
    " 'Pineapple',\n",
    " 'Pitahaya Red',\n",
    " 'Plum',\n",
    " 'Pomegranate',\n",
    " 'Quince',\n",
    " 'Raspberry',\n",
    " 'Salak',\n",
    " 'Strawberry',\n",
    " 'Tamarillo',\n",
    " 'Tangelo']\n",
    "names = ['acerolas',\n",
    " 'apples',\n",
    " 'apricots',\n",
    " 'avocados',\n",
    " 'bananas',\n",
    " 'blackberries',\n",
    " 'blueberries',\n",
    " 'cantaloupes',\n",
    " 'cherries',\n",
    " 'coconuts',\n",
    " 'figs',\n",
    " 'garbage',\n",
    " 'grapefruits',\n",
    " 'grapes',\n",
    " 'guava',\n",
    " 'kiwifruit',\n",
    " 'lemons',\n",
    " 'limes',\n",
    " 'mangos',\n",
    " 'olives',\n",
    " 'oranges',\n",
    " 'passionfruit',\n",
    " 'peaches',\n",
    " 'pears',\n",
    " 'pineapples',\n",
    " 'plums',\n",
    " 'pomegranates',\n",
    " 'raspberries',\n",
    " 'strawberries',\n",
    " 'tomatoes',\n",
    " 'watermelons']"
   ]
  },
  {
   "cell_type": "code",
   "execution_count": 4,
   "metadata": {},
   "outputs": [],
   "source": [
    "model_path = \"mymodel_finetuning_new_v1.pth\"\n",
    "model = torch.load(model_path)"
   ]
  },
  {
   "cell_type": "code",
   "execution_count": 5,
   "metadata": {},
   "outputs": [],
   "source": [
    "loader = transforms.Compose([\n",
    "    transforms.Resize((224,224)),\n",
    "    transforms.ToTensor(),\n",
    "    transforms.Normalize([0.5, 0.5, 0.5], [0.5, 0.5, 0.5])\n",
    "])\n",
    "\n",
    "def image_loader(image):\n",
    "    \"\"\"load image, returns cuda tensor\"\"\"\n",
    "    \n",
    "    image = loader(image).float()\n",
    "    image = Variable(image, requires_grad=True)\n",
    "    image = image.unsqueeze(0)  #this is for VGG, may not be needed for ResNet\n",
    "    return image.cuda()  #assumes that you're using GPU"
   ]
  },
  {
   "cell_type": "code",
   "execution_count": 16,
   "metadata": {},
   "outputs": [],
   "source": [
    "images = find_objects(\"../test_images/ban_app.jpg\")\n",
    "\n",
    "# for i in range(len(images)):\n",
    "#     cv2.imshow(f\"{i}\", images[i])\n",
    "# cv2.waitKey(0)"
   ]
  },
  {
   "cell_type": "code",
   "execution_count": 17,
   "metadata": {},
   "outputs": [
    {
     "name": "stdout",
     "output_type": "stream",
     "text": [
      "bananas: 7.72332763671875\n",
      "mangos: 5.004256725311279\n",
      "pears: 4.461568355560303\n",
      "apples: 2.9634478092193604\n",
      "olives: 1.9518351554870605\n",
      "\n",
      "kiwifruit: 7.1242356300354\n",
      "apples: 4.690161228179932\n",
      "lemons: 3.553666830062866\n",
      "mangos: 3.19903302192688\n",
      "pears: 3.1880385875701904\n",
      "\n"
     ]
    }
   ],
   "source": [
    "for i in images:\n",
    "    image = image_loader(Image.fromarray(i))\n",
    "    outputs = model(image)[0]\n",
    "    outputs = (outputs.data).cpu().numpy()\n",
    "    ind = outputs.argsort()[-5:][::-1]\n",
    "    for i in ind:\n",
    "        print(\"{}: {}\".format(names[i], outputs[i]))\n",
    "    print()"
   ]
  },
  {
   "cell_type": "code",
   "execution_count": 18,
   "metadata": {},
   "outputs": [
    {
     "data": {
      "text/plain": [
       "-1"
      ]
     },
     "execution_count": 18,
     "metadata": {},
     "output_type": "execute_result"
    }
   ],
   "source": [
    "for i in range(len(images)):\n",
    "    cv2.imshow(f\"{i}\", cv2.cvtColor(images[i], cv2.COLOR_RGB2BGR))\n",
    "cv2.waitKey(0)"
   ]
  },
  {
   "cell_type": "code",
   "execution_count": null,
   "metadata": {},
   "outputs": [],
   "source": []
  }
 ],
 "metadata": {
  "kernelspec": {
   "display_name": "Python 3",
   "language": "python",
   "name": "python3"
  },
  "language_info": {
   "codemirror_mode": {
    "name": "ipython",
    "version": 3
   },
   "file_extension": ".py",
   "mimetype": "text/x-python",
   "name": "python",
   "nbconvert_exporter": "python",
   "pygments_lexer": "ipython3",
   "version": "3.6.4"
  }
 },
 "nbformat": 4,
 "nbformat_minor": 2
}
