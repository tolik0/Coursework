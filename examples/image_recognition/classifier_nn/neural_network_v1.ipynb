{
 "cells": [
  {
   "cell_type": "code",
   "execution_count": 1,
   "metadata": {},
   "outputs": [
    {
     "name": "stderr",
     "output_type": "stream",
     "text": [
      "c:\\users\\iatsuk\\appdata\\local\\programs\\python\\python36\\lib\\site-packages\\h5py\\__init__.py:36: FutureWarning: Conversion of the second argument of issubdtype from `float` to `np.floating` is deprecated. In future, it will be treated as `np.float64 == np.dtype(float).type`.\n",
      "  from ._conv import register_converters as _register_converters\n",
      "Using TensorFlow backend.\n"
     ]
    }
   ],
   "source": [
    "import sys\n",
    "sys.path.append('..')\n",
    "from loader import load_data\n",
    "import numpy\n",
    "from keras.models import Sequential\n",
    "from keras.layers import Dense\n",
    "from keras.wrappers.scikit_learn import KerasClassifier\n",
    "from keras.utils import np_utils\n",
    "from sklearn.model_selection import cross_val_score\n",
    "from sklearn.model_selection import KFold\n",
    "from sklearn.preprocessing import LabelEncoder\n",
    "import pandas\n",
    "import pickle"
   ]
  },
  {
   "cell_type": "code",
   "execution_count": 2,
   "metadata": {},
   "outputs": [],
   "source": [
    "seed = 7\n",
    "numpy.random.seed(seed)"
   ]
  },
  {
   "cell_type": "code",
   "execution_count": 3,
   "metadata": {},
   "outputs": [
    {
     "name": "stdout",
     "output_type": "stream",
     "text": [
      "Product Apple Braeburn [1/60] loaded...\n",
      "Product Apple Golden 1 [2/60] loaded...\n",
      "Product Apple Golden 2 [3/60] loaded...\n",
      "Product Apple Golden 3 [4/60] loaded...\n",
      "Product Apple Granny Smith [5/60] loaded...\n",
      "Product Apple Red 1 [6/60] loaded...\n",
      "Product Apple Red 2 [7/60] loaded...\n",
      "Product Apple Red 3 [8/60] loaded...\n",
      "Product Apple Red Delicious [9/60] loaded...\n",
      "Product Apple Red Yellow [10/60] loaded...\n",
      "Product Apricot [11/60] loaded...\n",
      "Product Avocado [12/60] loaded...\n",
      "Product Avocado ripe [13/60] loaded...\n",
      "Product Banana [14/60] loaded...\n",
      "Product Banana Red [15/60] loaded...\n",
      "Product Cactus fruit [16/60] loaded...\n",
      "Product Carambula [17/60] loaded...\n",
      "Product Cherry [18/60] loaded...\n",
      "Product Clementine [19/60] loaded...\n",
      "Product Cocos [20/60] loaded...\n",
      "Product Dates [21/60] loaded...\n",
      "Product Granadilla [22/60] loaded...\n",
      "Product Grape Pink [23/60] loaded...\n",
      "Product Grape White [24/60] loaded...\n",
      "Product Grape White 2 [25/60] loaded...\n",
      "Product Grapefruit Pink [26/60] loaded...\n",
      "Product Grapefruit White [27/60] loaded...\n",
      "Product Guava [28/60] loaded...\n",
      "Product Huckleberry [29/60] loaded...\n",
      "Product Kaki [30/60] loaded...\n",
      "Product Kiwi [31/60] loaded...\n",
      "Product Kumquats [32/60] loaded...\n",
      "Product Lemon [33/60] loaded...\n",
      "Product Lemon Meyer [34/60] loaded...\n",
      "Product Limes [35/60] loaded...\n",
      "Product Litchi [36/60] loaded...\n",
      "Product Mandarine [37/60] loaded...\n",
      "Product Mango [38/60] loaded...\n",
      "Product Maracuja [39/60] loaded...\n",
      "Product Nectarine [40/60] loaded...\n",
      "Product Orange [41/60] loaded...\n",
      "Product Papaya [42/60] loaded...\n",
      "Product Passion Fruit [43/60] loaded...\n",
      "Product Peach [44/60] loaded...\n",
      "Product Peach Flat [45/60] loaded...\n",
      "Product Pear [46/60] loaded...\n",
      "Product Pear Abate [47/60] loaded...\n",
      "Product Pear Monster [48/60] loaded...\n",
      "Product Pear Williams [49/60] loaded...\n",
      "Product Pepino [50/60] loaded...\n",
      "Product Pineapple [51/60] loaded...\n",
      "Product Pitahaya Red [52/60] loaded...\n",
      "Product Plum [53/60] loaded...\n",
      "Product Pomegranate [54/60] loaded...\n",
      "Product Quince [55/60] loaded...\n",
      "Product Raspberry [56/60] loaded...\n",
      "Product Salak [57/60] loaded...\n",
      "Product Strawberry [58/60] loaded...\n",
      "Product Tamarillo [59/60] loaded...\n",
      "Product Tangelo [60/60] loaded...\n"
     ]
    }
   ],
   "source": [
    "X, Y, labels = load_data(\"../fruits-360/Training\")"
   ]
  },
  {
   "cell_type": "code",
   "execution_count": 4,
   "metadata": {},
   "outputs": [
    {
     "data": {
      "text/plain": [
       "array([[0.99607843, 1.        , 1.        , ..., 1.        , 1.        ,\n",
       "        1.        ],\n",
       "       [0.99607843, 1.        , 0.98431373, ..., 1.        , 1.        ,\n",
       "        1.        ],\n",
       "       [0.99215686, 1.        , 0.98039216, ..., 1.        , 1.        ,\n",
       "        1.        ],\n",
       "       ...,\n",
       "       [1.        , 1.        , 1.        , ..., 1.        , 1.        ,\n",
       "        1.        ],\n",
       "       [1.        , 1.        , 1.        , ..., 1.        , 1.        ,\n",
       "        1.        ],\n",
       "       [1.        , 1.        , 1.        , ..., 1.        , 1.        ,\n",
       "        1.        ]])"
      ]
     },
     "execution_count": 4,
     "metadata": {},
     "output_type": "execute_result"
    }
   ],
   "source": [
    "X = X / 255\n",
    "X"
   ]
  },
  {
   "cell_type": "code",
   "execution_count": 5,
   "metadata": {},
   "outputs": [
    {
     "data": {
      "text/plain": [
       "(28736,)"
      ]
     },
     "execution_count": 5,
     "metadata": {},
     "output_type": "execute_result"
    }
   ],
   "source": [
    "Y.shape"
   ]
  },
  {
   "cell_type": "code",
   "execution_count": 6,
   "metadata": {},
   "outputs": [
    {
     "data": {
      "text/plain": [
       "(28736, 60)"
      ]
     },
     "execution_count": 6,
     "metadata": {},
     "output_type": "execute_result"
    }
   ],
   "source": [
    "encoder = LabelEncoder()\n",
    "encoder.fit(Y)\n",
    "encoded_Y = encoder.transform(Y)\n",
    "# convert integers to dummy variables (i.e. one hot encoded)\n",
    "dummy_y = np_utils.to_categorical(encoded_Y)\n",
    "dummy_y.shape"
   ]
  },
  {
   "cell_type": "code",
   "execution_count": 8,
   "metadata": {},
   "outputs": [],
   "source": [
    "# define baseline model\n",
    "def baseline_model():\n",
    "    # create model\n",
    "    model = Sequential()\n",
    "    model.add(Dense(256, input_dim=7500, activation='relu'))\n",
    "    model.add(Dense(128, activation='relu'))\n",
    "    model.add(Dense(64, activation='relu'))\n",
    "    model.add(Dense(60, activation='softmax'))\n",
    "    # Compile model\n",
    "    model.compile(loss='categorical_crossentropy', optimizer='adam', metrics=['accuracy'])\n",
    "    return model"
   ]
  },
  {
   "cell_type": "code",
   "execution_count": 9,
   "metadata": {},
   "outputs": [
    {
     "name": "stdout",
     "output_type": "stream",
     "text": [
      "Baseline: 100.00% (0.01%)\n"
     ]
    }
   ],
   "source": [
    "estimator = KerasClassifier(build_fn=baseline_model, epochs=15, batch_size=128, verbose=0)\n",
    "kfold = KFold(n_splits=10, shuffle=True, random_state=seed)\n",
    "results = cross_val_score(estimator, X, dummy_y, cv=kfold)\n",
    "print(\"Baseline: %.2f%% (%.2f%%)\" % (results.mean()*100, results.std()*100))"
   ]
  },
  {
   "cell_type": "code",
   "execution_count": 10,
   "metadata": {},
   "outputs": [],
   "source": [
    "with open('pickled_images', 'wb') as file:\n",
    "    pickle.dump(estimator, file)"
   ]
  },
  {
   "cell_type": "code",
   "execution_count": null,
   "metadata": {},
   "outputs": [],
   "source": [
    "from sklearn.model_selection import permutation_test_score\n"
   ]
  }
 ],
 "metadata": {
  "kernelspec": {
   "display_name": "Python 3",
   "language": "python",
   "name": "python3"
  },
  "language_info": {
   "codemirror_mode": {
    "name": "ipython",
    "version": 3
   },
   "file_extension": ".py",
   "mimetype": "text/x-python",
   "name": "python",
   "nbconvert_exporter": "python",
   "pygments_lexer": "ipython3",
   "version": "3.6.5"
  }
 },
 "nbformat": 4,
 "nbformat_minor": 2
}
