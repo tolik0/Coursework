{
 "cells": [
  {
   "cell_type": "code",
   "execution_count": 1,
   "metadata": {},
   "outputs": [
    {
     "name": "stderr",
     "output_type": "stream",
     "text": [
      "c:\\users\\iatsuk\\appdata\\local\\programs\\python\\python36\\lib\\site-packages\\h5py\\__init__.py:36: FutureWarning: Conversion of the second argument of issubdtype from `float` to `np.floating` is deprecated. In future, it will be treated as `np.float64 == np.dtype(float).type`.\n",
      "  from ._conv import register_converters as _register_converters\n",
      "Using TensorFlow backend.\n"
     ]
    }
   ],
   "source": [
    "import sys\n",
    "sys.path.append('..')\n",
    "from loader import load_data\n",
    "import numpy\n",
    "from keras.models import Sequential\n",
    "from keras.layers import Dense\n",
    "from keras.wrappers.scikit_learn import KerasClassifier\n",
    "from keras.utils import np_utils\n",
    "from sklearn.model_selection import cross_val_score\n",
    "from sklearn.model_selection import KFold\n",
    "from sklearn.preprocessing import LabelEncoder\n",
    "import pandas\n",
    "import pickle"
   ]
  },
  {
   "cell_type": "code",
   "execution_count": 2,
   "metadata": {},
   "outputs": [],
   "source": [
    "seed = 7\n",
    "numpy.random.seed(seed)"
   ]
  },
  {
   "cell_type": "code",
   "execution_count": 3,
   "metadata": {},
   "outputs": [
    {
     "name": "stdout",
     "output_type": "stream",
     "text": [
      "Product Apple Braeburn [1/60] loaded...\n",
      "Product Apple Golden 1 [2/60] loaded...\n",
      "Product Apple Golden 2 [3/60] loaded...\n",
      "Product Apple Golden 3 [4/60] loaded...\n",
      "Product Apple Granny Smith [5/60] loaded...\n",
      "Product Apple Red 1 [6/60] loaded...\n",
      "Product Apple Red 2 [7/60] loaded...\n",
      "Product Apple Red 3 [8/60] loaded...\n",
      "Product Apple Red Delicious [9/60] loaded...\n",
      "Product Apple Red Yellow [10/60] loaded...\n",
      "Product Apricot [11/60] loaded...\n",
      "Product Avocado [12/60] loaded...\n",
      "Product Avocado ripe [13/60] loaded...\n",
      "Product Banana [14/60] loaded...\n",
      "Product Banana Red [15/60] loaded...\n",
      "Product Cactus fruit [16/60] loaded...\n",
      "Product Carambula [17/60] loaded...\n",
      "Product Cherry [18/60] loaded...\n",
      "Product Clementine [19/60] loaded...\n",
      "Product Cocos [20/60] loaded...\n",
      "Product Dates [21/60] loaded...\n",
      "Product Granadilla [22/60] loaded...\n",
      "Product Grape Pink [23/60] loaded...\n",
      "Product Grape White [24/60] loaded...\n",
      "Product Grape White 2 [25/60] loaded...\n",
      "Product Grapefruit Pink [26/60] loaded...\n",
      "Product Grapefruit White [27/60] loaded...\n",
      "Product Guava [28/60] loaded...\n",
      "Product Huckleberry [29/60] loaded...\n",
      "Product Kaki [30/60] loaded...\n",
      "Product Kiwi [31/60] loaded...\n",
      "Product Kumquats [32/60] loaded...\n",
      "Product Lemon [33/60] loaded...\n",
      "Product Lemon Meyer [34/60] loaded...\n",
      "Product Limes [35/60] loaded...\n",
      "Product Litchi [36/60] loaded...\n",
      "Product Mandarine [37/60] loaded...\n",
      "Product Mango [38/60] loaded...\n",
      "Product Maracuja [39/60] loaded...\n",
      "Product Nectarine [40/60] loaded...\n",
      "Product Orange [41/60] loaded...\n",
      "Product Papaya [42/60] loaded...\n",
      "Product Passion Fruit [43/60] loaded...\n",
      "Product Peach [44/60] loaded...\n",
      "Product Peach Flat [45/60] loaded...\n",
      "Product Pear [46/60] loaded...\n",
      "Product Pear Abate [47/60] loaded...\n",
      "Product Pear Monster [48/60] loaded...\n",
      "Product Pear Williams [49/60] loaded...\n",
      "Product Pepino [50/60] loaded...\n",
      "Product Pineapple [51/60] loaded...\n",
      "Product Pitahaya Red [52/60] loaded...\n",
      "Product Plum [53/60] loaded...\n",
      "Product Pomegranate [54/60] loaded...\n",
      "Product Quince [55/60] loaded...\n",
      "Product Raspberry [56/60] loaded...\n",
      "Product Salak [57/60] loaded...\n",
      "Product Strawberry [58/60] loaded...\n",
      "Product Tamarillo [59/60] loaded...\n",
      "Product Tangelo [60/60] loaded...\n",
      "Product Apple Braeburn [1/60] loaded...\n",
      "Product Apple Golden 1 [2/60] loaded...\n",
      "Product Apple Golden 2 [3/60] loaded...\n",
      "Product Apple Golden 3 [4/60] loaded...\n",
      "Product Apple Granny Smith [5/60] loaded...\n",
      "Product Apple Red 1 [6/60] loaded...\n",
      "Product Apple Red 2 [7/60] loaded...\n",
      "Product Apple Red 3 [8/60] loaded...\n",
      "Product Apple Red Delicious [9/60] loaded...\n",
      "Product Apple Red Yellow [10/60] loaded...\n",
      "Product Apricot [11/60] loaded...\n",
      "Product Avocado [12/60] loaded...\n",
      "Product Avocado ripe [13/60] loaded...\n",
      "Product Banana [14/60] loaded...\n",
      "Product Banana Red [15/60] loaded...\n",
      "Product Cactus fruit [16/60] loaded...\n",
      "Product Carambula [17/60] loaded...\n",
      "Product Cherry [18/60] loaded...\n",
      "Product Clementine [19/60] loaded...\n",
      "Product Cocos [20/60] loaded...\n",
      "Product Dates [21/60] loaded...\n",
      "Product Granadilla [22/60] loaded...\n",
      "Product Grape Pink [23/60] loaded...\n",
      "Product Grape White [24/60] loaded...\n",
      "Product Grape White 2 [25/60] loaded...\n",
      "Product Grapefruit Pink [26/60] loaded...\n",
      "Product Grapefruit White [27/60] loaded...\n",
      "Product Guava [28/60] loaded...\n",
      "Product Huckleberry [29/60] loaded...\n",
      "Product Kaki [30/60] loaded...\n",
      "Product Kiwi [31/60] loaded...\n",
      "Product Kumquats [32/60] loaded...\n",
      "Product Lemon [33/60] loaded...\n",
      "Product Lemon Meyer [34/60] loaded...\n",
      "Product Limes [35/60] loaded...\n",
      "Product Litchi [36/60] loaded...\n",
      "Product Mandarine [37/60] loaded...\n",
      "Product Mango [38/60] loaded...\n",
      "Product Maracuja [39/60] loaded...\n",
      "Product Nectarine [40/60] loaded...\n",
      "Product Orange [41/60] loaded...\n",
      "Product Papaya [42/60] loaded...\n",
      "Product Passion Fruit [43/60] loaded...\n",
      "Product Peach [44/60] loaded...\n",
      "Product Peach Flat [45/60] loaded...\n",
      "Product Pear [46/60] loaded...\n",
      "Product Pear Abate [47/60] loaded...\n",
      "Product Pear Monster [48/60] loaded...\n",
      "Product Pear Williams [49/60] loaded...\n",
      "Product Pepino [50/60] loaded...\n",
      "Product Pineapple [51/60] loaded...\n",
      "Product Pitahaya Red [52/60] loaded...\n",
      "Product Plum [53/60] loaded...\n",
      "Product Pomegranate [54/60] loaded...\n",
      "Product Quince [55/60] loaded...\n",
      "Product Raspberry [56/60] loaded...\n",
      "Product Salak [57/60] loaded...\n",
      "Product Strawberry [58/60] loaded...\n",
      "Product Tamarillo [59/60] loaded...\n",
      "Product Tangelo [60/60] loaded...\n"
     ]
    }
   ],
   "source": [
    "X_train, Y_train, labels = load_data(\"../fruits-360/Training\")\n",
    "X_test, Y_test, labels = load_data(\"../fruits-360/Validation\")\n",
    "X_train, X_test = X_train / 255, X_test / 255"
   ]
  },
  {
   "cell_type": "code",
   "execution_count": 4,
   "metadata": {},
   "outputs": [
    {
     "data": {
      "text/plain": [
       "((28736, 7500), (9673, 7500), (28736,), (9673,))"
      ]
     },
     "execution_count": 4,
     "metadata": {},
     "output_type": "execute_result"
    }
   ],
   "source": [
    "X_train.shape, X_test.shape, Y_train.shape, Y_test.shape"
   ]
  },
  {
   "cell_type": "code",
   "execution_count": 5,
   "metadata": {},
   "outputs": [
    {
     "data": {
      "text/plain": [
       "(28736, 60)"
      ]
     },
     "execution_count": 5,
     "metadata": {},
     "output_type": "execute_result"
    }
   ],
   "source": [
    "encoder = LabelEncoder()\n",
    "encoder.fit(Y_train)\n",
    "encoded_Y_train = encoder.transform(Y_train)\n",
    "# convert integers to dummy variables (i.e. one hot encoded)\n",
    "dummy_y_train = np_utils.to_categorical(encoded_Y_train)\n",
    "dummy_y_train.shape"
   ]
  },
  {
   "cell_type": "code",
   "execution_count": 6,
   "metadata": {},
   "outputs": [
    {
     "data": {
      "text/plain": [
       "(9673, 60)"
      ]
     },
     "execution_count": 6,
     "metadata": {},
     "output_type": "execute_result"
    }
   ],
   "source": [
    "encoder = LabelEncoder()\n",
    "encoder.fit(Y_test)\n",
    "encoded_Y_test = encoder.transform(Y_test)\n",
    "# convert integers to dummy variables (i.e. one hot encoded)\n",
    "dummy_y_test = np_utils.to_categorical(encoded_Y_test)\n",
    "dummy_y_test.shape"
   ]
  },
  {
   "cell_type": "code",
   "execution_count": 7,
   "metadata": {},
   "outputs": [],
   "source": [
    "# define baseline model\n",
    "def baseline_model():\n",
    "    # create model\n",
    "    model = Sequential()\n",
    "    model.add(Dense(256, input_dim=7500, activation='relu'))\n",
    "    model.add(Dense(128, activation='relu'))\n",
    "    model.add(Dense(64, activation='relu'))\n",
    "    model.add(Dense(60, activation='softmax'))\n",
    "    # Compile model\n",
    "    model.compile(loss='categorical_crossentropy', optimizer='adam', metrics=['accuracy'])\n",
    "    return model"
   ]
  },
  {
   "cell_type": "code",
   "execution_count": 15,
   "metadata": {},
   "outputs": [],
   "source": [
    "model = baseline_model()"
   ]
  },
  {
   "cell_type": "code",
   "execution_count": 16,
   "metadata": {},
   "outputs": [
    {
     "name": "stdout",
     "output_type": "stream",
     "text": [
      "Epoch 1/20\n",
      "28736/28736 [==============================] - 4s 148us/step - loss: 1.9761 - acc: 0.4789\n",
      "Epoch 2/20\n",
      "28736/28736 [==============================] - 4s 136us/step - loss: 0.2403 - acc: 0.9398\n",
      "Epoch 3/20\n",
      "28736/28736 [==============================] - 4s 138us/step - loss: 0.0726 - acc: 0.9852\n",
      "Epoch 4/20\n",
      "28736/28736 [==============================] - 4s 139us/step - loss: 0.0330 - acc: 0.9942 1s - loss\n",
      "Epoch 5/20\n",
      "28736/28736 [==============================] - 4s 138us/step - loss: 0.0191 - acc: 0.9972\n",
      "Epoch 6/20\n",
      "28736/28736 [==============================] - 4s 139us/step - loss: 0.0065 - acc: 0.9995\n",
      "Epoch 7/20\n",
      "28736/28736 [==============================] - 4s 139us/step - loss: 0.0754 - acc: 0.9758\n",
      "Epoch 8/20\n",
      "28736/28736 [==============================] - 4s 138us/step - loss: 0.0093 - acc: 0.9982\n",
      "Epoch 9/20\n",
      "28736/28736 [==============================] - 4s 139us/step - loss: 0.0014 - acc: 0.9999\n",
      "Epoch 10/20\n",
      "28736/28736 [==============================] - 4s 139us/step - loss: 7.7332e-04 - acc: 1.0000\n",
      "Epoch 11/20\n",
      "28736/28736 [==============================] - 4s 139us/step - loss: 6.2970e-04 - acc: 1.0000\n",
      "Epoch 12/20\n",
      "28736/28736 [==============================] - 4s 137us/step - loss: 5.4277e-04 - acc: 1.0000\n",
      "Epoch 13/20\n",
      "28736/28736 [==============================] - 4s 137us/step - loss: 4.6741e-04 - acc: 1.0000\n",
      "Epoch 14/20\n",
      "28736/28736 [==============================] - 4s 137us/step - loss: 4.0779e-04 - acc: 1.0000\n",
      "Epoch 15/20\n",
      "28736/28736 [==============================] - 4s 137us/step - loss: 3.4841e-04 - acc: 1.0000\n",
      "Epoch 16/20\n",
      "28736/28736 [==============================] - 4s 136us/step - loss: 3.0994e-04 - acc: 1.0000\n",
      "Epoch 17/20\n",
      "28736/28736 [==============================] - 4s 140us/step - loss: 2.7446e-04 - acc: 1.0000\n",
      "Epoch 18/20\n",
      "28736/28736 [==============================] - 4s 140us/step - loss: 2.3575e-04 - acc: 1.0000 0s - loss: 2.3712e-04 - acc: 1\n",
      "Epoch 19/20\n",
      "28736/28736 [==============================] - 4s 144us/step - loss: 2.1613e-04 - acc: 1.0000\n",
      "Epoch 20/20\n",
      "28736/28736 [==============================] - 4s 139us/step - loss: 1.8722e-04 - acc: 1.0000\n"
     ]
    },
    {
     "data": {
      "text/plain": [
       "<keras.callbacks.History at 0x1f22e36ed30>"
      ]
     },
     "execution_count": 16,
     "metadata": {},
     "output_type": "execute_result"
    }
   ],
   "source": [
    "model.fit(X_train, dummy_y_train, epochs=20, batch_size=128)"
   ]
  },
  {
   "cell_type": "code",
   "execution_count": 17,
   "metadata": {},
   "outputs": [
    {
     "name": "stdout",
     "output_type": "stream",
     "text": [
      "9673/9673 [==============================] - 1s 120us/step\n"
     ]
    }
   ],
   "source": [
    "loss_and_metrics = model.evaluate(X_test, dummy_y_test, batch_size=128)"
   ]
  },
  {
   "cell_type": "code",
   "execution_count": 18,
   "metadata": {},
   "outputs": [
    {
     "name": "stdout",
     "output_type": "stream",
     "text": [
      "[0.14854566102821365, 0.966194562183397]\n"
     ]
    }
   ],
   "source": [
    "print(loss_and_metrics)"
   ]
  },
  {
   "cell_type": "code",
   "execution_count": 31,
   "metadata": {},
   "outputs": [],
   "source": [
    "from PIL import Image\n",
    "X = []\n",
    "img = Image.open(\"banan.jpg\")\n",
    "img = img.resize((50, 50))\n",
    "image = numpy.array(img)\n",
    "image = image.flatten()\n",
    "X.append(image)\n",
    "X = numpy.array(X)"
   ]
  },
  {
   "cell_type": "code",
   "execution_count": 42,
   "metadata": {},
   "outputs": [
    {
     "data": {
      "text/plain": [
       "array([[0., 0., 0., 0., 0., 0., 0., 0., 0., 0., 0., 0., 0., 1., 0., 0.,\n",
       "        0., 0., 0., 0., 0., 0., 0., 0., 0., 0., 0., 0., 0., 0., 0., 0.,\n",
       "        0., 0., 0., 0., 0., 0., 0., 0., 0., 0., 0., 0., 0., 0., 0., 0.,\n",
       "        0., 0., 0., 0., 0., 0., 0., 0., 0., 0., 0., 0.]], dtype=float32)"
      ]
     },
     "execution_count": 42,
     "metadata": {},
     "output_type": "execute_result"
    }
   ],
   "source": [
    "classes = model.predict(X)\n",
    "classes"
   ]
  },
  {
   "cell_type": "code",
   "execution_count": 44,
   "metadata": {},
   "outputs": [
    {
     "data": {
      "text/plain": [
       "13"
      ]
     },
     "execution_count": 44,
     "metadata": {},
     "output_type": "execute_result"
    }
   ],
   "source": [
    "numpy.where(classes==1.0)[1][0]"
   ]
  },
  {
   "cell_type": "code",
   "execution_count": 45,
   "metadata": {},
   "outputs": [
    {
     "data": {
      "text/plain": [
       "'Banana'"
      ]
     },
     "execution_count": 45,
     "metadata": {},
     "output_type": "execute_result"
    }
   ],
   "source": [
    "labels[numpy.where(classes==1.0)[1][0]]"
   ]
  },
  {
   "cell_type": "code",
   "execution_count": null,
   "metadata": {},
   "outputs": [],
   "source": []
  },
  {
   "cell_type": "code",
   "execution_count": 20,
   "metadata": {},
   "outputs": [
    {
     "ename": "TypeError",
     "evalue": "can't pickle _thread.RLock objects",
     "output_type": "error",
     "traceback": [
      "\u001b[1;31m---------------------------------------------------------------------------\u001b[0m",
      "\u001b[1;31mTypeError\u001b[0m                                 Traceback (most recent call last)",
      "\u001b[1;32m<ipython-input-20-a7a3e1516754>\u001b[0m in \u001b[0;36m<module>\u001b[1;34m()\u001b[0m\n\u001b[0;32m      1\u001b[0m \u001b[1;32mwith\u001b[0m \u001b[0mopen\u001b[0m\u001b[1;33m(\u001b[0m\u001b[1;34m'pickled_neural'\u001b[0m\u001b[1;33m,\u001b[0m \u001b[1;34m'wb'\u001b[0m\u001b[1;33m)\u001b[0m \u001b[1;32mas\u001b[0m \u001b[0mfile\u001b[0m\u001b[1;33m:\u001b[0m\u001b[1;33m\u001b[0m\u001b[0m\n\u001b[1;32m----> 2\u001b[1;33m     \u001b[0mpickle\u001b[0m\u001b[1;33m.\u001b[0m\u001b[0mdump\u001b[0m\u001b[1;33m(\u001b[0m\u001b[0mmodel\u001b[0m\u001b[1;33m,\u001b[0m \u001b[0mfile\u001b[0m\u001b[1;33m)\u001b[0m\u001b[1;33m\u001b[0m\u001b[0m\n\u001b[0m",
      "\u001b[1;31mTypeError\u001b[0m: can't pickle _thread.RLock objects"
     ]
    }
   ],
   "source": [
    "with open('pickled_neural', 'wb') as file:\n",
    "    pickle.dump(model, file)"
   ]
  },
  {
   "cell_type": "code",
   "execution_count": null,
   "metadata": {},
   "outputs": [],
   "source": [
    "from sklearn.model_selection import permutation_test_score\n"
   ]
  }
 ],
 "metadata": {
  "kernelspec": {
   "display_name": "Python 3",
   "language": "python",
   "name": "python3"
  },
  "language_info": {
   "codemirror_mode": {
    "name": "ipython",
    "version": 3
   },
   "file_extension": ".py",
   "mimetype": "text/x-python",
   "name": "python",
   "nbconvert_exporter": "python",
   "pygments_lexer": "ipython3",
   "version": "3.6.5"
  }
 },
 "nbformat": 4,
 "nbformat_minor": 2
}
